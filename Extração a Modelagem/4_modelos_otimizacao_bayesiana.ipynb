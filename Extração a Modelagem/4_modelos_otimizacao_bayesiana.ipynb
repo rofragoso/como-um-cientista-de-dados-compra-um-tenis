{
 "cells": [
  {
   "cell_type": "markdown",
   "metadata": {},
   "source": [
    "# Criação e otimização dos modelos de classificação"
   ]
  },
  {
   "cell_type": "markdown",
   "metadata": {},
   "source": [
    "<div>\n",
    "<img src=\"imagens/opt.jpg\" align=\"left\" width=\"400\"/>\n",
    "</div>"
   ]
  },
  {
   "cell_type": "markdown",
   "metadata": {},
   "source": [
    "---\n",
    "### Rodrigo Fragoso \n",
    "- [**Linkedin**](https://www.linkedin.com/in/rodrigo-a-fragoso/) <br/>\n",
    "- **Email** : rodrigoandradefragoso@gmail.com <br/>"
   ]
  },
  {
   "cell_type": "markdown",
   "metadata": {},
   "source": [
    "### Objetivo\n",
    "-  Com todos dados que foram anotados, baseado no *Active Learning*, será necessário treinar e otimizar os modelos para realizar o ensemble final.\n",
    "-  O output esperado são os modelos treinados e otimizados para uso em produção.\n",
    "---"
   ]
  },
  {
   "cell_type": "markdown",
   "metadata": {},
   "source": [
    "<a id='top'></a>\n",
    "## Sumário\n",
    "\n",
    "* [1 - Importações das bibliotecas](#t1)\n",
    "\n",
    "* [2 - Otimização Bayesiana de Hiperparâmetros](#t2)\n",
    "    * [2.2 - Random Forest](#t2_2)\n",
    "    * [2.3 - LightGBM](#t2_3)<br>\n",
    "<br>\n",
    "\n",
    "* [3 - Ensemble](#t3)\n",
    "\n",
    "* [4 - Salvando modelos](#t4)"
   ]
  },
  {
   "cell_type": "markdown",
   "metadata": {},
   "source": [
    "##     "
   ]
  },
  {
   "cell_type": "markdown",
   "metadata": {},
   "source": [
    "<a id='t1'></a>\n",
    "## 1 - Importações das bibliotecas\n",
    "- [Sumário](#top)   \n",
    "    - [Próximo](#t2)"
   ]
  },
  {
   "cell_type": "markdown",
   "metadata": {},
   "source": [
    "### Para iniciarmos a extração será necessário o uso de algumas bibliotecas específicas, que serão importadas na célula abaixo:"
   ]
  },
  {
   "cell_type": "code",
   "execution_count": 1,
   "metadata": {},
   "outputs": [],
   "source": [
    "import pandas as pd\n",
    "import numpy as np\n",
    "\n",
    "import seaborn as sns\n",
    "import matplotlib.pyplot as plt\n",
    "\n",
    "import warnings\n",
    "warnings.filterwarnings(\"ignore\")"
   ]
  },
  {
   "cell_type": "markdown",
   "metadata": {},
   "source": [
    "##     "
   ]
  },
  {
   "cell_type": "markdown",
   "metadata": {},
   "source": [
    "### Feito isto, os *datasets* anotados foram consolidados em apenas um para realizar o treinamento com os dados completos"
   ]
  },
  {
   "cell_type": "code",
   "execution_count": 2,
   "metadata": {},
   "outputs": [
    {
     "data": {
      "text/plain": [
       "(555, 97)"
      ]
     },
     "execution_count": 2,
     "metadata": {},
     "output_type": "execute_result"
    }
   ],
   "source": [
    "df1 = pd.read_csv('./dados_tratados/dados_tratados_555_labels.csv',delimiter=';').dropna(subset=['y'])\n",
    "df1 = df1[df1['y'].notnull()]\n",
    "df1['novo'] = 0\n",
    "df1.shape"
   ]
  },
  {
   "cell_type": "code",
   "execution_count": 3,
   "metadata": {},
   "outputs": [
    {
     "data": {
      "text/plain": [
       "(200, 97)"
      ]
     },
     "execution_count": 3,
     "metadata": {},
     "output_type": "execute_result"
    }
   ],
   "source": [
    "df2 = pd.read_csv(\"./dados_tratados/dados_tratados_active_learning_labels.csv\",index_col=[0], delimiter=';')\n",
    "df2 = df2[df2['y'].notnull()]\n",
    "df2['novo'] = 1\n",
    "df2=df2[df1.columns]\n",
    "df2.shape"
   ]
  },
  {
   "cell_type": "code",
   "execution_count": 4,
   "metadata": {},
   "outputs": [],
   "source": [
    "df_updated=pd.concat([df1, df2])"
   ]
  },
  {
   "cell_type": "code",
   "execution_count": 5,
   "metadata": {},
   "outputs": [],
   "source": [
    "X_up= df_updated.copy().drop(columns=['y','novo'])\n",
    "y_up= df_updated['y'].copy()\n",
    "\n",
    "from sklearn.feature_extraction.text import TfidfVectorizer\n",
    "title= X_up['good_reasons_to_buy'].fillna(' ')\n",
    "X_up=X_up.copy().drop(columns=['shoes_name','link','image','bad_reasons_to_buy','good_reasons_to_buy'])"
   ]
  },
  {
   "cell_type": "markdown",
   "metadata": {},
   "source": [
    "### Aqui é feita uma verificação para garantir que eles foram combinados de maneira correta"
   ]
  },
  {
   "cell_type": "code",
   "execution_count": 6,
   "metadata": {},
   "outputs": [
    {
     "name": "stdout",
     "output_type": "stream",
     "text": [
      "(755, 90)\n"
     ]
    }
   ],
   "source": [
    "print(X_up.shape)"
   ]
  },
  {
   "cell_type": "code",
   "execution_count": 7,
   "metadata": {},
   "outputs": [],
   "source": [
    "colunas_1=X_up.columns"
   ]
  },
  {
   "cell_type": "markdown",
   "metadata": {},
   "source": [
    "##     "
   ]
  },
  {
   "cell_type": "markdown",
   "metadata": {},
   "source": [
    "<a id='t2'></a>\n",
    "## 2 - Otimização Bayesiana de Hiperparâmetros\n",
    "- [Sumário](#top)   \n",
    "    - [Próximo](#t2_1)"
   ]
  },
  {
   "cell_type": "markdown",
   "metadata": {},
   "source": [
    "### Existem diferentes tecnicas para escolher/otimizar os hiperparametros de um modelo de *machine learning*, entre os mais utilizaddos estão a *Grid Search* e a *Random Search* que atuam da seguinte maneira:\n",
    "* No *Grid Search* é criada uma matriz com diversas combinações de parâmetros, dentro de um intervalo com *steps* definidos pelo usuário. Com essa matriz, é feito o teste de todas configurações possíveis garantindo que escolhamos a melhor opção disponível dentro daquele universo, mas em contrapartida isso requer muito processamento e tempo, já que iremos realizar uma quantidade massiva de treinamentos;\n",
    "* A *Random Search* faz uma pesquisa randômica dentro de um intervalo também definido pelo usuário. Basicamente, iremos \"chutar\" algumas combinações e analisar o seu resultado, podendo achar uma solução muito boa ou não, lembrando que o usuário irá escolher quantas vezes o algoritmo irá realizar  os \"chutes\";"
   ]
  },
  {
   "cell_type": "markdown",
   "metadata": {},
   "source": [
    "### Para garantir um bom resultado e economizar tempo e processamento, foi utilizada uma outra solução: a otimização Bayesiana, que funciona da seguinte forma:\n",
    "* Primeiro é feita uma *Random Search* para gerar alguns modelos que serão utilizados como base para otimização;\n",
    "* Feito isso, o algoritmo \"aprende\" qual caminho seguir e faz sua busca pelo resultado ótimo;\n",
    "* Obs: vale ressaltar que nada que garante que cheguemos ao otimo global, mas idealmente o algoritmo irá convergir."
   ]
  },
  {
   "cell_type": "markdown",
   "metadata": {},
   "source": [
    "<a id='t2_1'></a>\n",
    "## 2.1 - Random Forest\n",
    "- [Sumário](#top)   \n",
    "    - [Anterior](#t2)\n",
    "    - [Próximo](#t2_2)"
   ]
  },
  {
   "cell_type": "markdown",
   "metadata": {},
   "source": [
    "### Aqui foi criada uma função para ser utilizada dentro da gp_minimize( ), que é o otimizador. Note que a função retorna um valor negativo, isso acontece porque estamos trabalhando em função de minimizar o nosso objetivo, então é necessária inverter o valor do objetivo para que ele seja maximizado.\n",
    "### Obs: Foram otimizados tantos os hiperparâmetros do classificador quanto do TfidfVectorizer( )\n",
    "### Na Random Forest, o objetivo foi otimizar a *Average Precision* e para avaliar os resultados, também foi utilizada a validação cruzada"
   ]
  },
  {
   "cell_type": "code",
   "execution_count": 8,
   "metadata": {},
   "outputs": [
    {
     "name": "stdout",
     "output_type": "stream",
     "text": [
      "Iteração 1 / parametros:['auto', 13, 3, 3, 2261, 4, 4]\n",
      "APS = 0.2714 / AUC-ROC = 0.5317\n",
      "---\n",
      "Iteração 2 / parametros:['sqrt', 61, 4, 3, 1986, 12, 4]\n",
      "APS = 0.2747 / AUC-ROC = 0.5396\n",
      "---\n",
      "Iteração 3 / parametros:['auto', 53, 3, 3, 1270, 14, 3]\n",
      "APS = 0.269 / AUC-ROC = 0.5333\n",
      "---\n",
      "Iteração 4 / parametros:['auto', 26, 2, 9, 648, 5, 4]\n",
      "APS = 0.2656 / AUC-ROC = 0.524\n",
      "---\n",
      "Iteração 5 / parametros:['sqrt', 40, 3, 5, 741, 14, 4]\n",
      "APS = 0.2702 / AUC-ROC = 0.5325\n",
      "---\n",
      "Iteração 6 / parametros:['sqrt', 69, 5, 3, 1523, 6, 4]\n",
      "APS = 0.2756 / AUC-ROC = 0.5435\n",
      "---\n",
      "Iteração 7 / parametros:['sqrt', 20, 5, 3, 1219, 16, 3]\n",
      "APS = 0.2963 / AUC-ROC = 0.5623\n",
      "---\n",
      "Iteração 8 / parametros:['auto', 56, 1, 7, 2167, 8, 3]\n",
      "APS = 0.2573 / AUC-ROC = 0.5164\n",
      "---\n",
      "Iteração 9 / parametros:['sqrt', 53, 6, 10, 2414, 14, 4]\n",
      "APS = 0.2957 / AUC-ROC = 0.5651\n",
      "---\n",
      "Iteração 10 / parametros:['auto', 53, 2, 7, 2556, 16, 5]\n",
      "APS = 0.2671 / AUC-ROC = 0.5283\n",
      "---\n",
      "Iteração 11 / parametros:['sqrt', 70, 1, 3, 943, 8, 4]\n",
      "APS = 0.2547 / AUC-ROC = 0.5131\n",
      "---\n",
      "Iteração 12 / parametros:['auto', 25, 3, 8, 1255, 17, 2]\n",
      "APS = 0.2812 / AUC-ROC = 0.5419\n",
      "---\n",
      "Iteração 13 / parametros:['auto', 17, 4, 9, 849, 13, 3]\n",
      "APS = 0.2733 / AUC-ROC = 0.5407\n",
      "---\n",
      "Iteração 14 / parametros:['auto', 66, 2, 5, 1820, 5, 4]\n",
      "APS = 0.2572 / AUC-ROC = 0.5168\n",
      "---\n",
      "Iteração 15 / parametros:['sqrt', 13, 4, 7, 1901, 13, 5]\n",
      "APS = 0.2771 / AUC-ROC = 0.5441\n",
      "---\n",
      "Iteração 16 / parametros:['sqrt', 61, 3, 7, 927, 4, 2]\n",
      "APS = 0.2606 / AUC-ROC = 0.5243\n",
      "---\n",
      "Iteração 17 / parametros:['sqrt', 34, 5, 3, 2345, 4, 3]\n",
      "APS = 0.2694 / AUC-ROC = 0.5364\n",
      "---\n",
      "Iteração 18 / parametros:['auto', 11, 2, 6, 2050, 17, 5]\n",
      "APS = 0.2737 / AUC-ROC = 0.5367\n",
      "---\n",
      "Iteração 19 / parametros:['sqrt', 14, 6, 9, 1518, 4, 3]\n",
      "APS = 0.282 / AUC-ROC = 0.5522\n",
      "---\n",
      "Iteração 20 / parametros:['auto', 21, 5, 7, 1607, 13, 5]\n",
      "APS = 0.2813 / AUC-ROC = 0.5488\n",
      "---\n",
      "Iteração 21 / parametros:['sqrt', 42, 3, 6, 2659, 19, 3]\n",
      "APS = 0.2706 / AUC-ROC = 0.5342\n",
      "---\n",
      "Iteração 22 / parametros:['sqrt', 31, 2, 3, 1468, 4, 2]\n",
      "APS = 0.2686 / AUC-ROC = 0.5219\n",
      "---\n",
      "Iteração 23 / parametros:['auto', 60, 5, 8, 633, 19, 1]\n",
      "APS = 0.2961 / AUC-ROC = 0.5675\n",
      "---\n",
      "Iteração 24 / parametros:['sqrt', 25, 5, 7, 541, 8, 4]\n",
      "APS = 0.2622 / AUC-ROC = 0.5319\n",
      "---\n",
      "Iteração 25 / parametros:['auto', 55, 5, 7, 745, 15, 3]\n",
      "APS = 0.2773 / AUC-ROC = 0.5475\n",
      "---\n",
      "Iteração 26 / parametros:['sqrt', 67, 2, 9, 2260, 8, 2]\n",
      "APS = 0.262 / AUC-ROC = 0.5256\n",
      "---\n",
      "Iteração 27 / parametros:['auto', 31, 4, 8, 2535, 5, 2]\n",
      "APS = 0.2705 / AUC-ROC = 0.5382\n",
      "---\n",
      "Iteração 28 / parametros:['sqrt', 35, 4, 3, 1725, 4, 4]\n",
      "APS = 0.2709 / AUC-ROC = 0.5349\n",
      "---\n",
      "Iteração 29 / parametros:['sqrt', 33, 4, 10, 2821, 4, 3]\n",
      "APS = 0.2774 / AUC-ROC = 0.5377\n",
      "---\n",
      "Iteração 30 / parametros:['auto', 25, 5, 9, 822, 11, 3]\n",
      "APS = 0.2817 / AUC-ROC = 0.5512\n",
      "---\n",
      "Iteração 31 / parametros:['auto', 54, 2, 9, 2653, 2, 2]\n",
      "APS = 0.27 / AUC-ROC = 0.5274\n",
      "---\n",
      "Iteração 32 / parametros:['auto', 12, 4, 8, 1394, 19, 2]\n",
      "APS = 0.2884 / AUC-ROC = 0.5547\n",
      "---\n",
      "Iteração 33 / parametros:['auto', 54, 1, 8, 2854, 7, 2]\n",
      "APS = 0.2636 / AUC-ROC = 0.5206\n",
      "---\n",
      "Iteração 34 / parametros:['sqrt', 23, 4, 7, 2617, 5, 3]\n",
      "APS = 0.2692 / AUC-ROC = 0.5327\n",
      "---\n",
      "Iteração 35 / parametros:['auto', 29, 2, 6, 2868, 1, 3]\n",
      "APS = 0.2653 / AUC-ROC = 0.5203\n",
      "---\n",
      "Iteração 36 / parametros:['sqrt', 33, 2, 5, 2592, 4, 3]\n",
      "APS = 0.2596 / AUC-ROC = 0.5177\n",
      "---\n",
      "Iteração 37 / parametros:['sqrt', 24, 4, 8, 1265, 5, 2]\n",
      "APS = 0.2823 / AUC-ROC = 0.5472\n",
      "---\n",
      "Iteração 38 / parametros:['sqrt', 64, 3, 5, 911, 19, 2]\n",
      "APS = 0.2733 / AUC-ROC = 0.5367\n",
      "---\n",
      "Iteração 39 / parametros:['auto', 13, 3, 5, 1794, 11, 1]\n",
      "APS = 0.2971 / AUC-ROC = 0.5556\n",
      "---\n",
      "Iteração 40 / parametros:['sqrt', 48, 5, 6, 1102, 11, 4]\n",
      "APS = 0.2743 / AUC-ROC = 0.5445\n",
      "---\n",
      "Iteração 41 / parametros:['auto', 10, 6, 2, 3000, 20, 1]\n",
      "APS = 0.2962 / AUC-ROC = 0.576\n",
      "---\n",
      "Iteração 42 / parametros:['auto', 10, 6, 10, 3000, 20, 1]\n",
      "APS = 0.2962 / AUC-ROC = 0.576\n",
      "---\n",
      "Iteração 43 / parametros:['auto', 26, 6, 5, 2910, 20, 1]\n",
      "APS = 0.2893 / AUC-ROC = 0.5676\n",
      "---\n",
      "Iteração 44 / parametros:['sqrt', 12, 6, 7, 1245, 19, 1]\n",
      "APS = 0.2826 / AUC-ROC = 0.5616\n",
      "---\n",
      "Iteração 45 / parametros:['auto', 10, 6, 10, 3000, 20, 1]\n",
      "APS = 0.2962 / AUC-ROC = 0.576\n",
      "---\n",
      "Iteração 46 / parametros:['auto', 10, 6, 2, 500, 20, 1]\n",
      "APS = 0.2953 / AUC-ROC = 0.5743\n",
      "---\n",
      "Iteração 47 / parametros:['auto', 69, 6, 6, 2262, 19, 1]\n",
      "APS = 0.2906 / AUC-ROC = 0.5673\n",
      "---\n",
      "Iteração 48 / parametros:['auto', 10, 6, 2, 3000, 20, 1]\n",
      "APS = 0.2962 / AUC-ROC = 0.576\n",
      "---\n",
      "Iteração 49 / parametros:['auto', 10, 6, 10, 3000, 20, 1]\n",
      "APS = 0.2962 / AUC-ROC = 0.576\n",
      "---\n",
      "Iteração 50 / parametros:['sqrt', 58, 6, 10, 1783, 20, 1]\n",
      "APS = 0.2848 / AUC-ROC = 0.5634\n",
      "---\n",
      "Iteração 51 / parametros:['auto', 37, 6, 3, 649, 20, 5]\n",
      "APS = 0.2846 / AUC-ROC = 0.5602\n",
      "---\n",
      "Iteração 52 / parametros:['auto', 11, 6, 2, 2617, 19, 1]\n",
      "APS = 0.2935 / AUC-ROC = 0.5718\n",
      "---\n",
      "Iteração 53 / parametros:['sqrt', 15, 6, 4, 2902, 20, 1]\n",
      "APS = 0.2893 / AUC-ROC = 0.5676\n",
      "---\n",
      "Iteração 54 / parametros:['auto', 11, 6, 10, 2540, 2, 1]\n",
      "APS = 0.2839 / AUC-ROC = 0.5631\n",
      "---\n",
      "Iteração 55 / parametros:['auto', 11, 6, 7, 2691, 20, 4]\n",
      "APS = 0.2851 / AUC-ROC = 0.5608\n",
      "---\n",
      "Iteração 56 / parametros:['auto', 10, 6, 10, 500, 20, 1]\n",
      "APS = 0.2953 / AUC-ROC = 0.5743\n",
      "---\n",
      "Iteração 57 / parametros:['auto', 67, 6, 4, 2372, 19, 1]\n",
      "APS = 0.2879 / AUC-ROC = 0.5648\n",
      "---\n",
      "Iteração 58 / parametros:['auto', 10, 6, 10, 500, 20, 1]\n",
      "APS = 0.2953 / AUC-ROC = 0.5743\n",
      "---\n",
      "Iteração 59 / parametros:['auto', 70, 6, 3, 828, 19, 1]\n",
      "APS = 0.2872 / AUC-ROC = 0.5647\n",
      "---\n",
      "Iteração 60 / parametros:['auto', 10, 6, 2, 3000, 20, 1]\n",
      "APS = 0.2962 / AUC-ROC = 0.576\n",
      "---\n",
      "Iteração 61 / parametros:['sqrt', 10, 6, 3, 2019, 18, 1]\n",
      "APS = 0.2882 / AUC-ROC = 0.5675\n",
      "---\n",
      "Iteração 62 / parametros:['sqrt', 12, 6, 10, 2705, 19, 1]\n",
      "APS = 0.2867 / AUC-ROC = 0.5646\n",
      "---\n",
      "Iteração 63 / parametros:['auto', 10, 1, 2, 3000, 20, 1]\n",
      "APS = 0.282 / AUC-ROC = 0.5367\n",
      "---\n",
      "Iteração 64 / parametros:['auto', 10, 6, 2, 500, 20, 1]\n",
      "APS = 0.2953 / AUC-ROC = 0.5743\n",
      "---\n",
      "Iteração 65 / parametros:['auto', 10, 6, 10, 500, 20, 1]\n",
      "APS = 0.2953 / AUC-ROC = 0.5743\n",
      "---\n",
      "Iteração 66 / parametros:['auto', 10, 6, 2, 500, 20, 1]\n",
      "APS = 0.2953 / AUC-ROC = 0.5743\n",
      "---\n",
      "Iteração 67 / parametros:['sqrt', 13, 6, 3, 598, 20, 5]\n",
      "APS = 0.2821 / AUC-ROC = 0.5584\n",
      "---\n",
      "Iteração 68 / parametros:['auto', 63, 6, 5, 563, 3, 1]\n",
      "APS = 0.2924 / AUC-ROC = 0.5716\n",
      "---\n",
      "Iteração 69 / parametros:['auto', 10, 6, 2, 500, 20, 1]\n",
      "APS = 0.2953 / AUC-ROC = 0.5743\n",
      "---\n",
      "Iteração 70 / parametros:['auto', 70, 6, 7, 2607, 18, 4]\n",
      "APS = 0.2877 / AUC-ROC = 0.5575\n",
      "---\n",
      "Iteração 71 / parametros:['auto', 69, 6, 9, 1844, 18, 5]\n",
      "APS = 0.2977 / AUC-ROC = 0.5671\n",
      "---\n",
      "Iteração 72 / parametros:['auto', 66, 6, 5, 2827, 19, 5]\n",
      "APS = 0.2878 / AUC-ROC = 0.5607\n",
      "---\n",
      "Iteração 73 / parametros:['auto', 66, 6, 9, 613, 2, 5]\n",
      "APS = 0.2713 / AUC-ROC = 0.5433\n",
      "---\n",
      "Iteração 74 / parametros:['sqrt', 12, 1, 2, 616, 19, 1]\n",
      "APS = 0.2723 / AUC-ROC = 0.5278\n",
      "---\n",
      "Iteração 75 / parametros:['auto', 70, 6, 3, 1765, 1, 1]\n",
      "APS = 0.2954 / AUC-ROC = 0.5723\n",
      "---\n",
      "Iteração 76 / parametros:['auto', 22, 6, 3, 1418, 1, 1]\n",
      "APS = 0.2983 / AUC-ROC = 0.5753\n",
      "---\n",
      "Iteração 77 / parametros:['auto', 13, 6, 3, 2281, 2, 1]\n",
      "APS = 0.2869 / AUC-ROC = 0.5652\n",
      "---\n",
      "Iteração 78 / parametros:['sqrt', 26, 6, 10, 2764, 20, 5]\n",
      "APS = 0.2819 / AUC-ROC = 0.556\n",
      "---\n",
      "Iteração 79 / parametros:['auto', 18, 6, 6, 735, 1, 1]\n",
      "APS = 0.2894 / AUC-ROC = 0.5679\n",
      "---\n",
      "Iteração 80 / parametros:['auto', 11, 6, 4, 2568, 20, 3]\n",
      "APS = 0.2895 / AUC-ROC = 0.5635\n",
      "---\n",
      "Iteração 81 / parametros:['auto', 10, 6, 2, 3000, 20, 1]\n",
      "APS = 0.2962 / AUC-ROC = 0.576\n",
      "---\n",
      "Iteração 82 / parametros:['auto', 10, 6, 2, 3000, 20, 1]\n",
      "APS = 0.2962 / AUC-ROC = 0.576\n",
      "---\n",
      "Iteração 83 / parametros:['auto', 11, 6, 10, 775, 2, 5]\n",
      "APS = 0.2668 / AUC-ROC = 0.5404\n",
      "---\n",
      "Iteração 84 / parametros:['auto', 10, 6, 2, 3000, 20, 1]\n",
      "APS = 0.2962 / AUC-ROC = 0.576\n",
      "---\n",
      "Iteração 85 / parametros:['sqrt', 67, 6, 2, 2035, 19, 5]\n",
      "APS = 0.2894 / AUC-ROC = 0.5624\n",
      "---\n",
      "Iteração 86 / parametros:['auto', 10, 1, 5, 1730, 2, 1]\n",
      "APS = 0.2794 / AUC-ROC = 0.5417\n",
      "---\n",
      "Iteração 87 / parametros:['auto', 70, 6, 9, 2805, 2, 1]\n",
      "APS = 0.2837 / AUC-ROC = 0.5623\n",
      "---\n",
      "Iteração 88 / parametros:['sqrt', 67, 6, 2, 2462, 20, 2]\n",
      "APS = 0.2896 / AUC-ROC = 0.5629\n",
      "---\n",
      "Iteração 89 / parametros:['auto', 68, 6, 3, 1782, 20, 5]\n",
      "APS = 0.2872 / AUC-ROC = 0.5615\n",
      "---\n",
      "Iteração 90 / parametros:['auto', 68, 6, 5, 2244, 20, 3]\n",
      "APS = 0.2843 / AUC-ROC = 0.557\n",
      "---\n",
      "Iteração 91 / parametros:['sqrt', 69, 6, 5, 1735, 19, 5]\n",
      "APS = 0.2882 / AUC-ROC = 0.5616\n",
      "---\n",
      "Iteração 92 / parametros:['auto', 10, 6, 2, 500, 20, 1]\n",
      "APS = 0.2953 / AUC-ROC = 0.5743\n",
      "---\n",
      "Iteração 93 / parametros:['auto', 10, 6, 2, 500, 20, 1]\n",
      "APS = 0.2953 / AUC-ROC = 0.5743\n",
      "---\n",
      "Iteração 94 / parametros:['sqrt', 70, 6, 5, 692, 2, 1]\n",
      "APS = 0.2912 / AUC-ROC = 0.5696\n",
      "---\n",
      "Iteração 95 / parametros:['sqrt', 11, 1, 9, 1130, 19, 5]\n",
      "APS = 0.2729 / AUC-ROC = 0.5338\n",
      "---\n",
      "Iteração 96 / parametros:['auto', 66, 1, 5, 1030, 19, 1]\n",
      "APS = 0.2632 / AUC-ROC = 0.5193\n",
      "---\n",
      "Iteração 97 / parametros:['auto', 11, 6, 3, 2593, 1, 1]\n",
      "APS = 0.2928 / AUC-ROC = 0.5714\n",
      "---\n",
      "Iteração 98 / parametros:['auto', 70, 6, 9, 1214, 1, 1]\n",
      "APS = 0.2913 / AUC-ROC = 0.5692\n",
      "---\n",
      "Iteração 99 / parametros:['auto', 10, 6, 2, 500, 20, 1]\n",
      "APS = 0.2953 / AUC-ROC = 0.5743\n",
      "---\n"
     ]
    }
   ],
   "source": [
    "from sklearn.model_selection import RepeatedKFold\n",
    "from sklearn.ensemble import RandomForestClassifier\n",
    "from sklearn.metrics import roc_auc_score, average_precision_score\n",
    "from scipy.sparse import hstack\n",
    "from skopt import gp_minimize\n",
    "\n",
    "count=0\n",
    "\n",
    "def tune_rf(params):\n",
    "    \n",
    "    global count\n",
    "    count=count+1\n",
    "\n",
    "    max_features = params[0]\n",
    "    max_depth = params[1]\n",
    "    min_samples_leaf = params[2]\n",
    "    min_samples_split = params[3]\n",
    "    n_estimators = params[4]\n",
    "    \n",
    "    min_df = params[5]\n",
    "    ngram_range = (1, params[6])\n",
    "    \n",
    "    title_vec = TfidfVectorizer(min_df=min_df, ngram_range=ngram_range)\n",
    "    title_bow = title_vec.fit_transform(title)\n",
    "    \n",
    "    X_up_wtitle = hstack([X_up, title_bow])\n",
    "    \n",
    "    rf= RandomForestClassifier(\n",
    "                               max_features=max_features,\n",
    "                               max_depth=max_depth,\n",
    "                               min_samples_leaf=min_samples_leaf,\n",
    "                               min_samples_split=min_samples_split,\n",
    "                               n_estimators=n_estimators,\n",
    "                               class_weight=\"balanced\", \n",
    "                               n_jobs=-1, \n",
    "                               random_state=1)\n",
    "    resultados_aps=[]\n",
    "    resultados_roc=[]\n",
    "    \n",
    "    kf= RepeatedKFold(n_splits=2, n_repeats=1, random_state=5)\n",
    "    for train,valid in kf.split(X_up_wtitle):\n",
    "\n",
    "        Xtr, Xvld = X_up_wtitle.toarray()[train,:], X_up_wtitle.toarray()[valid,:]\n",
    "        ytr, yvld = y_up.iloc[train], y_up.iloc[valid]\n",
    "\n",
    "        rf.fit(Xtr,ytr)\n",
    "        p=rf.predict(Xvld)\n",
    "\n",
    "        aps=average_precision_score(yvld, p)\n",
    "        resultados_aps.append(aps)\n",
    "        \n",
    "        roc=roc_auc_score(yvld, p)\n",
    "        resultados_roc.append(roc)\n",
    "    \n",
    "    print('Iteração {n} / parametros:{params}'.format(n=count, \n",
    "                                                      params=params\n",
    "                                                     ))\n",
    "    print('APS = {aps} / AUC-ROC = {roc}'.format(aps=round(np.mean(resultados_aps),4),\n",
    "                                                 roc=round(np.mean(resultados_roc),4)\n",
    "                                                ))\n",
    "    print('---')\n",
    "          \n",
    "    return -np.mean(resultados_aps)\n",
    "\n",
    "\n",
    "space = [\n",
    "         ('auto', 'sqrt'), # max_features\n",
    "         (10, 70), # max_depth\n",
    "         (1, 6), # min_samples_leaf\n",
    "         (2, 10), # min_samples_split\n",
    "         (500, 3000), # n_estimators\n",
    "         (1, 20), # n_estimators\n",
    "         (1, 5), # ngram_range\n",
    "        ]\n",
    "       \n",
    "\n",
    "res_rf = gp_minimize(tune_rf,\n",
    "                     space,\n",
    "                     n_calls=99,\n",
    "                     n_random_starts=40,\n",
    "                     random_state=16,\n",
    "#                      verbose=1\n",
    "                 )"
   ]
  },
  {
   "cell_type": "markdown",
   "metadata": {},
   "source": [
    "### O argumento .x retorna os melhores hiiperparâmetros que foram encontrados na fase de otimização"
   ]
  },
  {
   "cell_type": "code",
   "execution_count": 9,
   "metadata": {},
   "outputs": [
    {
     "data": {
      "text/plain": [
       "['auto', 22, 6, 3, 1418, 1, 1]"
      ]
     },
     "execution_count": 9,
     "metadata": {},
     "output_type": "execute_result"
    }
   ],
   "source": [
    "res_rf.x"
   ]
  },
  {
   "cell_type": "markdown",
   "metadata": {},
   "source": [
    "### Por último, foi feito o plot do nosso objetivo ao longo das iterações para garantir que ele estava convergindo para um valor coerente"
   ]
  },
  {
   "cell_type": "code",
   "execution_count": 10,
   "metadata": {},
   "outputs": [
    {
     "data": {
      "text/plain": [
       "Text(0.5, 1.0, 'Convergence Plot - Random Forest')"
      ]
     },
     "execution_count": 10,
     "metadata": {},
     "output_type": "execute_result"
    },
    {
     "data": {
      "image/png": "[encoded data removed]",
      "text/plain": [
       "<Figure size 648x432 with 1 Axes>"
      ]
     },
     "metadata": {},
     "output_type": "display_data"
    }
   ],
   "source": [
    "%matplotlib inline\n",
    "sns.set(style='white',font_scale=1.3, rc={'figure.figsize':(9,6)})\n",
    "\n",
    "from skopt.plots import plot_convergence\n",
    "plot_convergence(res_rf)\n",
    "# plt.ylim([-0.4,0])\n",
    "plt.title('Convergence Plot - Random Forest')"
   ]
  },
  {
   "cell_type": "markdown",
   "metadata": {},
   "source": [
    "##     "
   ]
  },
  {
   "cell_type": "markdown",
   "metadata": {},
   "source": [
    "<a id='t2_2'></a>\n",
    "## 2.2 - LightGBM\n",
    "- [Sumário](#top)   \n",
    "    - [Anterior](#t2_1)\n",
    "    - [Próximo](#t3)"
   ]
  },
  {
   "cell_type": "markdown",
   "metadata": {},
   "source": [
    "### O procedimento feito na RandomForest foi repetido para o LightGBM\n",
    "### Nesse modelo, o objetivo foi otimizar a AUC - ROC, com o intuito de criar um *ensemble* mais robusto"
   ]
  },
  {
   "cell_type": "code",
   "execution_count": 11,
   "metadata": {},
   "outputs": [
    {
     "name": "stdout",
     "output_type": "stream",
     "text": [
      "Iteração 1 / parametros:[0.004501034257432059, 2, 7, 0.18223484451094563, 0.7192409322554387, 239, 4, 4]\n",
      "APS = 0.3594 / AUC-ROC = 0.6527\n",
      "---\n",
      "Iteração 2 / parametros:[0.048873535334964184, 7, 4, 0.6146125334241129, 0.5857379931995986, 754, 2, 4]\n",
      "APS = 0.3141 / AUC-ROC = 0.5918\n",
      "---\n",
      "Iteração 3 / parametros:[0.005285302738556758, 2, 7, 0.7217109945776673, 0.4252835383400519, 275, 2, 2]\n",
      "APS = 0.3635 / AUC-ROC = 0.6855\n",
      "---\n",
      "Iteração 4 / parametros:[0.043899935124562806, 2, 5, 0.7730836106749692, 0.8886409141192313, 552, 3, 3]\n",
      "APS = 0.3037 / AUC-ROC = 0.5969\n",
      "---\n",
      "Iteração 5 / parametros:[0.0015593236533173003, 7, 17, 0.6333869656771897, 0.986077066924187, 760, 1, 3]\n",
      "APS = 0.3401 / AUC-ROC = 0.6515\n",
      "---\n",
      "Iteração 6 / parametros:[0.0030901995236619615, 8, 16, 0.20174276846379458, 0.7927350384787077, 221, 2, 4]\n",
      "APS = 0.3678 / AUC-ROC = 0.67\n",
      "---\n",
      "Iteração 7 / parametros:[0.014192887617413044, 1, 15, 0.08047844831608797, 0.655672774232068, 700, 3, 3]\n",
      "APS = 0.3434 / AUC-ROC = 0.6526\n",
      "---\n",
      "Iteração 8 / parametros:[0.017519525587002215, 7, 20, 0.9649303455585423, 0.7773421854514047, 737, 4, 3]\n",
      "APS = 0.3065 / AUC-ROC = 0.5929\n",
      "---\n",
      "Iteração 9 / parametros:[0.02610670508269107, 3, 12, 0.8312277369087429, 0.7951515175815453, 975, 3, 5]\n",
      "APS = 0.3187 / AUC-ROC = 0.6102\n",
      "---\n",
      "Iteração 10 / parametros:[0.0014153684952200255, 2, 4, 0.3881375215615727, 0.7501087269699928, 475, 2, 3]\n",
      "APS = 0.3796 / AUC-ROC = 0.6941\n",
      "---\n",
      "Iteração 11 / parametros:[0.027964101435664853, 4, 17, 0.2156300469040323, 0.12321419631646621, 212, 4, 5]\n",
      "APS = 0.3207 / AUC-ROC = 0.6236\n",
      "---\n",
      "Iteração 12 / parametros:[0.0019004222979233558, 7, 9, 0.48170334606366266, 0.930449588513779, 270, 3, 3]\n",
      "APS = 0.3434 / AUC-ROC = 0.6433\n",
      "---\n",
      "Iteração 13 / parametros:[0.0026036048206023762, 7, 11, 0.10537892628578403, 0.5649929373457873, 640, 3, 4]\n",
      "APS = 0.3477 / AUC-ROC = 0.6392\n",
      "---\n",
      "Iteração 14 / parametros:[0.08661094697170098, 9, 17, 0.4027230254923324, 0.6918403998362566, 254, 2, 2]\n",
      "APS = 0.2993 / AUC-ROC = 0.5908\n",
      "---\n",
      "Iteração 15 / parametros:[0.04595147519361392, 5, 16, 0.11897283743181135, 0.7512325016649236, 224, 3, 2]\n",
      "APS = 0.3297 / AUC-ROC = 0.633\n",
      "---\n",
      "Iteração 16 / parametros:[0.0010953283762017464, 3, 11, 0.6388235707046777, 0.8608972534808569, 925, 5, 1]\n",
      "APS = 0.3704 / AUC-ROC = 0.6887\n",
      "---\n",
      "Iteração 17 / parametros:[0.08349701553738557, 9, 9, 0.20880407669269552, 0.4942151022118552, 236, 2, 4]\n",
      "APS = 0.3174 / AUC-ROC = 0.6061\n",
      "---\n",
      "Iteração 18 / parametros:[0.015705862921071505, 5, 13, 0.903285887183682, 0.7860567652171847, 582, 3, 3]\n",
      "APS = 0.3043 / AUC-ROC = 0.5944\n",
      "---\n",
      "Iteração 19 / parametros:[0.05333102759089069, 9, 10, 0.5277296535209283, 0.385534540030559, 253, 1, 3]\n",
      "APS = 0.2947 / AUC-ROC = 0.5784\n",
      "---\n",
      "Iteração 20 / parametros:[0.0019631280113824373, 3, 5, 0.8409664948194174, 0.8682323274430125, 781, 1, 5]\n",
      "APS = 0.3494 / AUC-ROC = 0.6653\n",
      "---\n",
      "Iteração 21 / parametros:[0.0017263235160079402, 7, 6, 0.834995127970565, 0.6551894235571603, 115, 3, 4]\n",
      "APS = 0.3333 / AUC-ROC = 0.633\n",
      "---\n",
      "Iteração 22 / parametros:[0.0074618625839803655, 8, 14, 0.6728750831702895, 0.14297940163572717, 749, 3, 4]\n",
      "APS = 0.2974 / AUC-ROC = 0.5831\n",
      "---\n",
      "Iteração 23 / parametros:[0.07992099571188326, 2, 18, 0.7189061871429193, 0.3802175212168781, 253, 2, 2]\n",
      "APS = 0.3047 / AUC-ROC = 0.6023\n",
      "---\n",
      "Iteração 24 / parametros:[0.021495367574500237, 7, 16, 0.24260015926431117, 0.3361076923423314, 838, 3, 3]\n",
      "APS = 0.3181 / AUC-ROC = 0.6144\n",
      "---\n",
      "Iteração 25 / parametros:[0.0021945383741290027, 5, 4, 0.837111000249568, 0.756866421681069, 452, 3, 5]\n",
      "APS = 0.3291 / AUC-ROC = 0.6325\n",
      "---\n",
      "Iteração 26 / parametros:[0.07190927945435278, 2, 10, 0.2810848476784844, 0.2929012425462336, 897, 4, 2]\n",
      "APS = 0.3126 / AUC-ROC = 0.604\n",
      "---\n",
      "Iteração 27 / parametros:[0.01107960970244202, 5, 7, 0.741213770212234, 0.18933371398304438, 900, 4, 1]\n",
      "APS = 0.3056 / AUC-ROC = 0.5933\n",
      "---\n",
      "Iteração 28 / parametros:[0.0018177415235781046, 2, 2, 0.6332929211885011, 0.7150098815695781, 422, 5, 2]\n",
      "APS = 0.3714 / AUC-ROC = 0.6957\n",
      "---\n",
      "Iteração 29 / parametros:[0.009587783092994875, 8, 1, 0.7901017229632531, 0.9444604171922596, 373, 2, 3]\n",
      "APS = 0.3303 / AUC-ROC = 0.6201\n",
      "---\n",
      "Iteração 30 / parametros:[0.002643030129941812, 7, 14, 0.8544609944519119, 0.22704729518084077, 476, 2, 2]\n",
      "APS = 0.3214 / AUC-ROC = 0.6205\n",
      "---\n",
      "Iteração 31 / parametros:[0.003257230196866044, 5, 19, 0.06275516581684185, 0.6051556171424497, 831, 3, 2]\n",
      "APS = 0.2424 / AUC-ROC = 0.5\n",
      "---\n",
      "Iteração 32 / parametros:[0.007235487302486097, 9, 4, 0.4791248893591858, 0.9255516137945056, 304, 4, 4]\n",
      "APS = 0.3097 / AUC-ROC = 0.5956\n",
      "---\n",
      "Iteração 33 / parametros:[0.004092844076678493, 3, 4, 0.8317309470482509, 0.9066506382897249, 388, 3, 2]\n",
      "APS = 0.3403 / AUC-ROC = 0.654\n",
      "---\n",
      "Iteração 34 / parametros:[0.08530945850091094, 3, 6, 0.08971082203067193, 0.3874447186480649, 387, 3, 3]\n",
      "APS = 0.3084 / AUC-ROC = 0.6051\n",
      "---\n",
      "Iteração 35 / parametros:[0.001757625279193272, 10, 13, 0.8035261550199049, 0.523888333541526, 317, 3, 4]\n",
      "APS = 0.3379 / AUC-ROC = 0.6408\n",
      "---\n",
      "Iteração 36 / parametros:[0.006485484574513384, 9, 15, 0.32007396924704584, 0.39731399582186394, 461, 2, 5]\n",
      "APS = 0.3357 / AUC-ROC = 0.6333\n",
      "---\n",
      "Iteração 37 / parametros:[0.013743342452888807, 2, 5, 0.46203278548285115, 0.9775713184305929, 163, 3, 2]\n",
      "APS = 0.3307 / AUC-ROC = 0.6417\n",
      "---\n",
      "Iteração 38 / parametros:[0.003552779357940233, 3, 4, 0.08743057251264527, 0.9473700572799599, 226, 2, 2]\n",
      "APS = 0.3004 / AUC-ROC = 0.5493\n",
      "---\n",
      "Iteração 39 / parametros:[0.022216805409536265, 10, 18, 0.6456493389344499, 0.607916926551612, 880, 1, 3]\n",
      "APS = 0.3088 / AUC-ROC = 0.5963\n",
      "---\n",
      "Iteração 40 / parametros:[0.011260121038838706, 10, 2, 0.44859678337182124, 0.7157883354488714, 756, 3, 5]\n",
      "APS = 0.3045 / AUC-ROC = 0.5877\n",
      "---\n",
      "Iteração 41 / parametros:[0.001, 1, 1, 0.18602633387664808, 1.0, 100, 1, 5]\n",
      "APS = 0.3861 / AUC-ROC = 0.7\n",
      "---\n",
      "Iteração 42 / parametros:[0.001, 1, 20, 0.40497299709023277, 0.05, 564, 1, 5]\n",
      "APS = 0.3464 / AUC-ROC = 0.6536\n",
      "---\n",
      "Iteração 43 / parametros:[0.001, 1, 1, 0.19647693302601338, 1.0, 100, 1, 5]\n",
      "APS = 0.387 / AUC-ROC = 0.7032\n",
      "---\n",
      "Iteração 44 / parametros:[0.001, 1, 1, 0.05, 1.0, 100, 1, 5]\n",
      "APS = 0.2424 / AUC-ROC = 0.5\n",
      "---\n",
      "Iteração 45 / parametros:[0.001, 1, 11, 0.2794975863358818, 1.0, 851, 3, 2]\n",
      "APS = 0.3813 / AUC-ROC = 0.7051\n",
      "---\n",
      "Iteração 46 / parametros:[0.0013812775565161198, 1, 1, 0.6781576736172925, 1.0, 100, 5, 1]\n",
      "APS = 0.3644 / AUC-ROC = 0.6914\n",
      "---\n",
      "Iteração 47 / parametros:[0.001, 3, 7, 0.23624696326507305, 1.0, 387, 1, 5]\n",
      "APS = 0.3689 / AUC-ROC = 0.6615\n",
      "---\n",
      "Iteração 48 / parametros:[0.001, 1, 2, 1.0, 1.0, 460, 4, 2]\n",
      "APS = 0.3729 / AUC-ROC = 0.7047\n",
      "---\n",
      "Iteração 49 / parametros:[0.001, 1, 1, 0.2926748358172013, 0.05, 100, 5, 3]\n",
      "APS = 0.3011 / AUC-ROC = 0.5971\n",
      "---\n",
      "Iteração 50 / parametros:[0.001, 1, 1, 1.0, 0.05, 100, 1, 5]\n",
      "APS = 0.3077 / AUC-ROC = 0.6186\n",
      "---\n",
      "Iteração 51 / parametros:[0.001, 1, 11, 0.35149002758944853, 1.0, 1000, 1, 1]\n",
      "APS = 0.3729 / AUC-ROC = 0.6981\n",
      "---\n",
      "Iteração 52 / parametros:[0.0010225509414096728, 9, 17, 0.2805131863719053, 0.9526123327647937, 951, 3, 2]\n",
      "APS = 0.391 / AUC-ROC = 0.6984\n",
      "---\n",
      "Iteração 53 / parametros:[0.001, 1, 9, 0.27672376689131634, 1.0, 100, 1, 5]\n",
      "APS = 0.369 / AUC-ROC = 0.6967\n",
      "---\n",
      "Iteração 54 / parametros:[0.001, 10, 1, 0.23515826526237177, 1.0, 940, 5, 3]\n",
      "APS = 0.3083 / AUC-ROC = 0.5816\n",
      "---\n",
      "Iteração 55 / parametros:[0.001, 1, 1, 1.0, 1.0, 100, 5, 1]\n",
      "APS = 0.3544 / AUC-ROC = 0.6765\n",
      "---\n",
      "Iteração 56 / parametros:[0.001, 1, 1, 0.2522609778382385, 1.0, 756, 2, 1]\n",
      "APS = 0.3804 / AUC-ROC = 0.7029\n",
      "---\n",
      "Iteração 57 / parametros:[0.001, 1, 11, 0.7211218241321724, 1.0, 729, 1, 1]\n",
      "APS = 0.372 / AUC-ROC = 0.7038\n",
      "---\n",
      "Iteração 58 / parametros:[0.001, 1, 20, 0.24612676497181468, 1.0, 286, 2, 3]\n",
      "APS = 0.3729 / AUC-ROC = 0.6981\n",
      "---\n",
      "Iteração 59 / parametros:[0.001, 1, 1, 0.6300144775609121, 1.0, 100, 3, 5]\n",
      "APS = 0.3729 / AUC-ROC = 0.7047\n",
      "---\n",
      "Iteração 60 / parametros:[0.001, 1, 19, 0.772563246822869, 1.0, 1000, 5, 1]\n",
      "APS = 0.3712 / AUC-ROC = 0.703\n",
      "---\n",
      "Iteração 61 / parametros:[0.001, 10, 20, 0.28121928887270203, 1.0, 1000, 1, 1]\n",
      "APS = 0.4016 / AUC-ROC = 0.7131\n",
      "---\n",
      "Iteração 62 / parametros:[0.0010975918660418888, 3, 3, 0.2642604072703474, 0.265105358493715, 659, 1, 3]\n",
      "APS = 0.3155 / AUC-ROC = 0.5965\n",
      "---\n",
      "Iteração 63 / parametros:[0.013763636881370847, 1, 20, 0.24483838177824996, 1.0, 1000, 1, 1]\n",
      "APS = 0.3575 / AUC-ROC = 0.6701\n",
      "---\n",
      "Iteração 64 / parametros:[0.001, 1, 20, 0.34767442464559595, 1.0, 100, 1, 3]\n",
      "APS = 0.3755 / AUC-ROC = 0.7064\n",
      "---\n",
      "Iteração 65 / parametros:[0.001, 1, 20, 0.3303436416194315, 1.0, 100, 1, 5]\n",
      "APS = 0.3708 / AUC-ROC = 0.7013\n",
      "---\n",
      "Iteração 66 / parametros:[0.001420902712606808, 1, 10, 0.5830126378534163, 0.1291302292028093, 973, 1, 1]\n",
      "APS = 0.3585 / AUC-ROC = 0.68\n",
      "---\n",
      "Iteração 67 / parametros:[0.001, 1, 1, 0.5334196768847494, 1.0, 292, 1, 4]\n",
      "APS = 0.3752 / AUC-ROC = 0.7072\n",
      "---\n",
      "Iteração 68 / parametros:[0.001, 1, 16, 0.3095251009109006, 1.0, 1000, 1, 3]\n",
      "APS = 0.3747 / AUC-ROC = 0.6987\n",
      "---\n",
      "Iteração 69 / parametros:[0.001, 10, 20, 1.0, 1.0, 272, 1, 1]\n",
      "APS = 0.3847 / AUC-ROC = 0.712\n",
      "---\n",
      "Iteração 70 / parametros:[0.001, 1, 18, 0.6828091231198296, 0.05, 940, 1, 4]\n",
      "APS = 0.3441 / AUC-ROC = 0.66\n",
      "---\n",
      "Iteração 71 / parametros:[0.09909671188763582, 1, 11, 0.18107292250138496, 0.9814156989977667, 503, 3, 2]\n",
      "APS = 0.2935 / AUC-ROC = 0.5918\n",
      "---\n",
      "Iteração 72 / parametros:[0.1, 1, 15, 1.0, 1.0, 604, 1, 3]\n",
      "APS = 0.2836 / AUC-ROC = 0.5768\n",
      "---\n",
      "Iteração 73 / parametros:[0.001, 1, 10, 0.5371524761693757, 0.5945545416182869, 535, 1, 4]\n",
      "APS = 0.3714 / AUC-ROC = 0.7026\n",
      "---\n",
      "Iteração 74 / parametros:[0.0670371568754356, 2, 2, 0.9954477096415253, 0.09706193507868288, 512, 1, 1]\n",
      "APS = 0.3035 / AUC-ROC = 0.5976\n",
      "---\n",
      "Iteração 75 / parametros:[0.001, 1, 1, 0.31797563582499794, 1.0, 483, 1, 1]\n",
      "APS = 0.3791 / AUC-ROC = 0.7069\n",
      "---\n",
      "Iteração 76 / parametros:[0.0010257675810131915, 1, 7, 0.5216080127173409, 0.3665745457979287, 919, 4, 3]\n",
      "APS = 0.3707 / AUC-ROC = 0.6956\n",
      "---\n",
      "Iteração 77 / parametros:[0.001, 10, 13, 1.0, 1.0, 481, 1, 3]\n",
      "APS = 0.3671 / AUC-ROC = 0.6849\n",
      "---\n",
      "Iteração 78 / parametros:[0.08986361173479077, 4, 8, 0.05864182138450767, 0.054198503786287745, 224, 2, 1]\n",
      "APS = 0.2849 / AUC-ROC = 0.5824\n",
      "---\n",
      "Iteração 79 / parametros:[0.001, 1, 20, 0.29409933380934145, 0.8514907080198632, 100, 1, 3]\n",
      "APS = 0.3768 / AUC-ROC = 0.7056\n",
      "---\n",
      "Iteração 80 / parametros:[0.001, 1, 6, 0.6626225068058359, 0.6130733332733161, 245, 1, 1]\n",
      "APS = 0.3729 / AUC-ROC = 0.7047\n",
      "---\n",
      "Iteração 81 / parametros:[0.0023047217806860753, 1, 20, 0.268093554171113, 1.0, 100, 1, 5]\n",
      "APS = 0.3631 / AUC-ROC = 0.6899\n",
      "---\n",
      "Iteração 82 / parametros:[0.001, 10, 19, 0.4174055069347105, 0.7812721682442402, 911, 1, 3]\n",
      "APS = 0.3774 / AUC-ROC = 0.69\n",
      "---\n",
      "Iteração 83 / parametros:[0.001, 1, 20, 0.4165438211066456, 1.0, 100, 1, 2]\n",
      "APS = 0.3729 / AUC-ROC = 0.7047\n",
      "---\n",
      "Iteração 84 / parametros:[0.0010263310429404855, 4, 7, 0.593889599086268, 0.09013045192562963, 861, 5, 3]\n",
      "APS = 0.2942 / AUC-ROC = 0.5821\n",
      "---\n",
      "Iteração 85 / parametros:[0.001, 1, 19, 0.3087581702304153, 0.7406702715136874, 685, 1, 2]\n",
      "APS = 0.3708 / AUC-ROC = 0.6952\n",
      "---\n",
      "Iteração 86 / parametros:[0.0010352364761931315, 9, 6, 0.9768435850477563, 0.9883358262069051, 897, 5, 1]\n",
      "APS = 0.362 / AUC-ROC = 0.6663\n",
      "---\n",
      "Iteração 87 / parametros:[0.001, 10, 5, 0.2962190276501875, 1.0, 100, 1, 1]\n",
      "APS = 0.3491 / AUC-ROC = 0.6334\n",
      "---\n",
      "Iteração 88 / parametros:[0.001, 1, 16, 1.0, 1.0, 395, 1, 4]\n",
      "APS = 0.3667 / AUC-ROC = 0.6943\n",
      "---\n",
      "Iteração 89 / parametros:[0.001079996606459808, 1, 7, 0.6304092221510492, 0.6112414954869057, 478, 1, 3]\n",
      "APS = 0.3754 / AUC-ROC = 0.7073\n",
      "---\n",
      "Iteração 90 / parametros:[0.001, 1, 14, 0.4789993850566444, 0.6901227407774616, 1000, 1, 1]\n",
      "APS = 0.3749 / AUC-ROC = 0.7018\n",
      "---\n",
      "Iteração 91 / parametros:[0.001021803339714439, 6, 15, 0.7143106610493365, 0.99407781744066, 600, 1, 3]\n",
      "APS = 0.3641 / AUC-ROC = 0.6803\n",
      "---\n",
      "Iteração 92 / parametros:[0.001026537638449565, 1, 14, 0.4101200295230822, 0.6174496868655114, 617, 4, 2]\n",
      "APS = 0.3714 / AUC-ROC = 0.6984\n",
      "---\n",
      "Iteração 93 / parametros:[0.001023477366792408, 5, 3, 0.8932299601691911, 0.9615189269909439, 388, 1, 1]\n",
      "APS = 0.3654 / AUC-ROC = 0.6718\n",
      "---\n",
      "Iteração 94 / parametros:[0.0010147669938507025, 1, 18, 0.7042812252661904, 0.5772102561807478, 575, 5, 1]\n",
      "APS = 0.3712 / AUC-ROC = 0.703\n",
      "---\n",
      "Iteração 95 / parametros:[0.0010397523133522835, 2, 16, 0.2825585248655003, 0.6425437641724502, 826, 1, 4]\n",
      "APS = 0.395 / AUC-ROC = 0.7046\n",
      "---\n",
      "Iteração 96 / parametros:[0.0013799687189469667, 1, 18, 0.27831932236048423, 0.7097473474922232, 935, 1, 3]\n",
      "APS = 0.3771 / AUC-ROC = 0.6985\n",
      "---\n",
      "Iteração 97 / parametros:[0.0010107922401453038, 1, 5, 0.402989664472832, 0.705961671860278, 289, 5, 1]\n",
      "APS = 0.3712 / AUC-ROC = 0.7005\n",
      "---\n",
      "Iteração 98 / parametros:[0.0010145008122732031, 10, 17, 0.9836916986914528, 0.654623731582251, 155, 5, 5]\n",
      "APS = 0.36 / AUC-ROC = 0.6733\n",
      "---\n",
      "Iteração 99 / parametros:[0.001, 1, 20, 0.3007955097559781, 0.7603144662831004, 1000, 1, 5]\n",
      "APS = 0.3691 / AUC-ROC = 0.6928\n",
      "---\n"
     ]
    }
   ],
   "source": [
    "from lightgbm import LGBMClassifier\n",
    "\n",
    "count=0\n",
    "\n",
    "def tune_lgbm(params):\n",
    "    \n",
    "    global count\n",
    "    count=count+1\n",
    "\n",
    "    lr = params[0]\n",
    "    max_depth = params[1]\n",
    "    min_child_samples = params[2]\n",
    "    subsample = params[3]\n",
    "    colsample_bytree = params[4]\n",
    "    n_estimators = params[5]\n",
    "    \n",
    "    min_df = params[6]\n",
    "    ngram_range = (1, params[7])\n",
    "    \n",
    "    title_vec = TfidfVectorizer(min_df=min_df, ngram_range=ngram_range)\n",
    "    title_bow = title_vec.fit_transform(title)\n",
    "    \n",
    "    X_up_wtitle = hstack([X_up, title_bow])\n",
    "    \n",
    "    lgbm = LGBMClassifier(learning_rate=lr,\n",
    "                          num_leaves=2 ** max_depth,\n",
    "                          max_depth=max_depth,\n",
    "                          min_child_samples=min_child_samples,\n",
    "                          subsample=subsample,\n",
    "                          colsample_bytree=colsample_bytree,\n",
    "                          bagging_freq=1,\n",
    "                          n_estimators=n_estimators,\n",
    "                          random_state=0, \n",
    "                          class_weight=\"balanced\", \n",
    "                          n_jobs=-1)\n",
    "    resultados_aps=[]\n",
    "    resultados_roc=[]\n",
    "    \n",
    "    kf= RepeatedKFold(n_splits=2, n_repeats=1, random_state=5)\n",
    "    for train,valid in kf.split(X_up_wtitle):\n",
    "\n",
    "        Xtr, Xvld = X_up_wtitle.toarray()[train,:], X_up_wtitle.toarray()[valid,:]\n",
    "        ytr, yvld = y_up.iloc[train], y_up.iloc[valid]\n",
    "\n",
    "        lgbm.fit(Xtr,ytr)\n",
    "        p=lgbm.predict(Xvld)\n",
    "\n",
    "        aps=average_precision_score(yvld, p)\n",
    "        resultados_aps.append(aps)\n",
    "        \n",
    "        roc=roc_auc_score(yvld, p)\n",
    "        resultados_roc.append(roc)\n",
    "        \n",
    "    print('Iteração {n} / parametros:{params}'.format(n=count, \n",
    "                                                      params=params\n",
    "                                                     ))\n",
    "    print('APS = {aps} / AUC-ROC = {roc}'.format(aps=round(np.mean(resultados_aps),4),\n",
    "                                                 roc=round(np.mean(resultados_roc),4)\n",
    "                                                ))\n",
    "    print('---')\n",
    "\n",
    "    return -np.mean(resultados_aps)\n",
    "          \n",
    "space = [(1e-3, 1e-1, 'log-uniform'), # lr\n",
    "          (1, 10), # max_depth\n",
    "          (1, 20), # min_child_samples\n",
    "          (0.05, 1.), # subsample\n",
    "          (0.05, 1.), # colsample_bytree\n",
    "          (100,1000), # n_estimators\n",
    "          (1,5), # min_df\n",
    "          (1,5)] # ngram_range\n",
    "       \n",
    "\n",
    "res_lgbm = gp_minimize(tune_lgbm, \n",
    "                       space,\n",
    "                       n_calls=99, \n",
    "                       n_random_starts=40,\n",
    "                       random_state=16,\n",
    "                       #verbose=1\n",
    "                 )"
   ]
  },
  {
   "cell_type": "code",
   "execution_count": 12,
   "metadata": {},
   "outputs": [
    {
     "data": {
      "text/plain": [
       "[0.001, 10, 20, 0.28121928887270203, 1.0, 1000, 1, 1]"
      ]
     },
     "execution_count": 12,
     "metadata": {},
     "output_type": "execute_result"
    }
   ],
   "source": [
    "res_lgbm.x"
   ]
  },
  {
   "cell_type": "markdown",
   "metadata": {},
   "source": [
    "### Aqui podemos verificar que a otimização convergiu, assim como no modelo anterior"
   ]
  },
  {
   "cell_type": "code",
   "execution_count": 13,
   "metadata": {},
   "outputs": [
    {
     "data": {
      "text/plain": [
       "Text(0.5, 1.0, 'Convergence Plot - LightGBM')"
      ]
     },
     "execution_count": 13,
     "metadata": {},
     "output_type": "execute_result"
    },
    {
     "data": {
      "image/png": "[encoded data removed]",
      "text/plain": [
       "<Figure size 648x432 with 1 Axes>"
      ]
     },
     "metadata": {},
     "output_type": "display_data"
    }
   ],
   "source": [
    "%matplotlib inline\n",
    "sns.set(style='white',font_scale=1.3, rc={'figure.figsize':(9,6)})\n",
    "\n",
    "from skopt.plots import plot_convergence\n",
    "plot_convergence(res_lgbm)\n",
    "# plt.ylim([-0.4,0])\n",
    "plt.title('Convergence Plot - LightGBM')"
   ]
  },
  {
   "cell_type": "markdown",
   "metadata": {},
   "source": [
    "##       "
   ]
  },
  {
   "cell_type": "markdown",
   "metadata": {},
   "source": [
    "<a id='t3'></a>\n",
    "## 3 - Ensemble\n",
    "- [Sumário](#top)   \n",
    "    - [Anterior](#t2_2)\n",
    "    - [Próximo](#t4)"
   ]
  },
  {
   "cell_type": "markdown",
   "metadata": {},
   "source": [
    "### Neste tópico, foi utilizada uma técnica de *ensemble* que tem como principal objetivo combinar diversos modelos de *machine learning* e aumentar sua performance e/ou capacidade de generalização. Para isso, é feita uma média ponderada dos resultados de \"probabilidade\" de cada um dos modelos utilizados, lembrando que os pesos utilizados na média ponderada são definidos pelo usuário e podem ser testados manualmente ou de forma automátic, a depender da complexidade e quantidade de modelos no *ensemble*."
   ]
  },
  {
   "cell_type": "markdown",
   "metadata": {},
   "source": [
    "### Encontrados os valores ótimos para ambos os modelos, eles foram treinados com todos os dados:"
   ]
  },
  {
   "cell_type": "code",
   "execution_count": 14,
   "metadata": {},
   "outputs": [],
   "source": [
    "def tune_ensemble(params_rf,params_lgbm,rf_weight,lgbm_weight):\n",
    "\n",
    "    max_features = params_rf[0]\n",
    "    max_depth = params_rf[1]\n",
    "    min_samples_leaf = params_rf[2]\n",
    "    min_samples_split = params_rf[3]\n",
    "    n_estimators = params_rf[4]\n",
    "    \n",
    "    min_df = params_rf[5]\n",
    "    ngram_range = (1, params_rf[6])\n",
    "    \n",
    "    title_vec = TfidfVectorizer(min_df=min_df, ngram_range=ngram_range)\n",
    "    title_bow = title_vec.fit_transform(title)\n",
    "    \n",
    "    X_up_wtitle_rf = hstack([X_up, title_bow])\n",
    "    \n",
    "    rf= RandomForestClassifier(\n",
    "                               max_features=max_features,\n",
    "                               max_depth=max_depth,\n",
    "                               min_samples_leaf=min_samples_leaf,\n",
    "                               min_samples_split=min_samples_split,\n",
    "                               n_estimators=n_estimators,\n",
    "                               class_weight=\"balanced\", \n",
    "                               n_jobs=-1, \n",
    "                               random_state=1)\n",
    "    \n",
    "    lr = params_lgbm[0]\n",
    "    max_depth = params_lgbm[1]\n",
    "    min_child_samples = params_lgbm[2]\n",
    "    subsample = params_lgbm[3]\n",
    "    colsample_bytree = params_lgbm[4]\n",
    "    n_estimators = params_lgbm[5]\n",
    "    \n",
    "    min_df = params_lgbm[6]\n",
    "    ngram_range = (1, params_lgbm[7])\n",
    "    \n",
    "    title_vec = TfidfVectorizer(min_df=min_df, ngram_range=ngram_range)\n",
    "    title_bow = title_vec.fit_transform(title)\n",
    "    \n",
    "    X_up_wtitle_lgbm = hstack([X_up, title_bow])\n",
    "    \n",
    "    lgbm = LGBMClassifier(learning_rate=lr,\n",
    "                          num_leaves=2 ** max_depth,\n",
    "                          max_depth=max_depth,\n",
    "                          min_child_samples=min_child_samples,\n",
    "                          subsample=subsample,\n",
    "                          colsample_bytree=colsample_bytree,\n",
    "                          bagging_freq=1,\n",
    "                          n_estimators=n_estimators,\n",
    "                          random_state=0, \n",
    "                          class_weight=\"balanced\", \n",
    "                          n_jobs=-1)\n",
    "       \n",
    "    resultados_aps=[]\n",
    "    resultados_roc=[]\n",
    "    \n",
    "    kf= RepeatedKFold(n_splits=2, n_repeats=1, random_state=5)\n",
    "    for train,valid in kf.split(X_up_wtitle_rf):\n",
    "\n",
    "        Xtr_rf, Xvld_rf = X_up_wtitle_rf.toarray()[train,:], X_up_wtitle_rf.toarray()[valid,:]\n",
    "        Xtr_lgbm, Xvld_lgbm = X_up_wtitle_lgbm.toarray()[train,:], X_up_wtitle_lgbm.toarray()[valid,:]\n",
    "        \n",
    "        ytr_rf, yvld_rf = y_up.iloc[train], y_up.iloc[valid]  \n",
    "        ytr_lgbm, yvld_lgbm = y_up.iloc[train], y_up.iloc[valid]\n",
    "\n",
    "        rf.fit(Xtr_rf,ytr_rf)\n",
    "        lgbm.fit(Xtr_lgbm,ytr_lgbm)\n",
    "        \n",
    "        p=rf.predict(Xvld_rf)\n",
    "        p2=lgbm.predict(Xvld_lgbm)\n",
    "        p_ensemble= rf_weight*p + lgbm_weight*p2\n",
    "        \n",
    "        aps=average_precision_score(yvld_lgbm, p_ensemble)\n",
    "        resultados_aps.append(aps)\n",
    "        \n",
    "        roc=roc_auc_score(yvld_lgbm, p_ensemble)\n",
    "        resultados_roc.append(roc)\n",
    "        \n",
    "    print('Peso RF: {}'.format(rf_weight),'Peso lGBM: {}'.format(lgbm_weight))\n",
    "    print('APS: {}'.format(round(np.mean(resultados_aps),4)),'AUC: {}'.format(round(np.mean(resultados_roc),4)))\n",
    "    print('')\n",
    "                                                                                 "
   ]
  },
  {
   "cell_type": "code",
   "execution_count": 15,
   "metadata": {},
   "outputs": [],
   "source": [
    "params_lgbm=res_lgbm.x\n",
    "params_rf=res_rf.x"
   ]
  },
  {
   "cell_type": "markdown",
   "metadata": {},
   "source": [
    "### Por fim, foram testadas todas combinações de pesos dentro de um intervalo definido:"
   ]
  },
  {
   "cell_type": "code",
   "execution_count": 16,
   "metadata": {},
   "outputs": [],
   "source": [
    "from itertools import combinations \n",
    "  \n",
    "def findPairs(lst, K): \n",
    "    return [pair for pair in combinations(lst, 2) if sum(pair) == K] "
   ]
  },
  {
   "cell_type": "code",
   "execution_count": 17,
   "metadata": {},
   "outputs": [
    {
     "name": "stdout",
     "output_type": "stream",
     "text": [
      "Peso RF: 0.05 Peso lGBM: 0.95\n",
      "APS: 0.4129 AUC: 0.7148\n",
      "\n",
      "Peso RF: 0.95 Peso lGBM: 0.05\n",
      "APS: 0.4062 AUC: 0.7091\n",
      "\n",
      "Peso RF: 0.15 Peso lGBM: 0.85\n",
      "APS: 0.4129 AUC: 0.7148\n",
      "\n",
      "Peso RF: 0.85 Peso lGBM: 0.15\n",
      "APS: 0.4062 AUC: 0.7091\n",
      "\n",
      "Peso RF: 0.2 Peso lGBM: 0.8\n",
      "APS: 0.4129 AUC: 0.7148\n",
      "\n",
      "Peso RF: 0.8 Peso lGBM: 0.2\n",
      "APS: 0.4062 AUC: 0.7091\n",
      "\n",
      "Peso RF: 0.25 Peso lGBM: 0.75\n",
      "APS: 0.4129 AUC: 0.7148\n",
      "\n",
      "Peso RF: 0.75 Peso lGBM: 0.25\n",
      "APS: 0.4062 AUC: 0.7091\n",
      "\n",
      "Peso RF: 0.3 Peso lGBM: 0.7\n",
      "APS: 0.4129 AUC: 0.7148\n",
      "\n",
      "Peso RF: 0.7 Peso lGBM: 0.3\n",
      "APS: 0.4062 AUC: 0.7091\n",
      "\n",
      "Peso RF: 0.4 Peso lGBM: 0.6\n",
      "APS: 0.4129 AUC: 0.7148\n",
      "\n",
      "Peso RF: 0.6 Peso lGBM: 0.4\n",
      "APS: 0.4062 AUC: 0.7091\n",
      "\n",
      "Peso RF: 0.45 Peso lGBM: 0.55\n",
      "APS: 0.4129 AUC: 0.7148\n",
      "\n",
      "Peso RF: 0.55 Peso lGBM: 0.45\n",
      "APS: 0.4062 AUC: 0.7091\n",
      "\n"
     ]
    }
   ],
   "source": [
    "numbers = np.arange(0.05, 1.05, 0.05).tolist()\n",
    "pares=findPairs(numbers,1)\n",
    "for x,y in pares:\n",
    "    tune_ensemble(params_rf,params_lgbm,round(x,2),round(y,2))\n",
    "    tune_ensemble(params_rf,params_lgbm,round(y,2),round(x,2))"
   ]
  },
  {
   "cell_type": "markdown",
   "metadata": {},
   "source": [
    "### Como o *ensemble* obteve resultados sem muita variação, optei por utilizar 50% de cada modelo, já que cada um otimiza uma métrica, a fim de aumentar a sua capacidade de generalização quando em produção."
   ]
  },
  {
   "cell_type": "markdown",
   "metadata": {},
   "source": [
    "##       "
   ]
  },
  {
   "cell_type": "markdown",
   "metadata": {},
   "source": [
    "<a id='t4'></a>\n",
    "## 4 - Salvando modelos\n",
    "- [Sumário](#top)   \n",
    "    - [Anterior](#t3)"
   ]
  },
  {
   "cell_type": "markdown",
   "metadata": {},
   "source": [
    "### Para utilizar os modelos no deploy, eles foram treinados com todos os dados anotados:"
   ]
  },
  {
   "cell_type": "code",
   "execution_count": 21,
   "metadata": {},
   "outputs": [
    {
     "data": {
      "text/plain": [
       "LGBMClassifier(bagging_freq=1, boosting_type='gbdt', class_weight='balanced',\n",
       "               colsample_bytree=1.0, importance_type='split',\n",
       "               learning_rate=0.001, max_depth=10, min_child_samples=20,\n",
       "               min_child_weight=0.001, min_split_gain=0.0, n_estimators=1000,\n",
       "               n_jobs=-1, num_leaves=1024, objective=None, random_state=0,\n",
       "               reg_alpha=0.0, reg_lambda=0.0, silent=True,\n",
       "               subsample=0.28121928887270203, subsample_for_bin=200000,\n",
       "               subsample_freq=0)"
      ]
     },
     "execution_count": 21,
     "metadata": {},
     "output_type": "execute_result"
    }
   ],
   "source": [
    "params=params_lgbm\n",
    "\n",
    "lr = params[0]\n",
    "max_depth = params[1]\n",
    "min_child_samples = params[2]\n",
    "subsample = params[3]\n",
    "colsample_bytree = params[4]\n",
    "n_estimators = params[5]\n",
    "\n",
    "min_df = params[6]\n",
    "ngram_range = (1, params[7])\n",
    "\n",
    "\n",
    "title_vec_lgbm = TfidfVectorizer(min_df=min_df, ngram_range=ngram_range)\n",
    "title_bow = title_vec_lgbm.fit_transform(title)\n",
    "\n",
    "X_up_wtitle = hstack([X_up, title_bow])\n",
    "\n",
    "lgbm = LGBMClassifier(learning_rate=lr,\n",
    "                      num_leaves=2 ** max_depth,\n",
    "                      max_depth=max_depth,\n",
    "                      min_child_samples=min_child_samples,\n",
    "                      subsample=subsample,\n",
    "                      colsample_bytree=colsample_bytree,\n",
    "                      bagging_freq=1,\n",
    "                      n_estimators=n_estimators,\n",
    "                      random_state=0, \n",
    "                      class_weight=\"balanced\", \n",
    "                      n_jobs=-1)\n",
    "\n",
    "lgbm.fit(X_up_wtitle,y_up)"
   ]
  },
  {
   "cell_type": "code",
   "execution_count": 23,
   "metadata": {},
   "outputs": [
    {
     "data": {
      "text/plain": [
       "RandomForestClassifier(bootstrap=True, ccp_alpha=0.0, class_weight='balanced',\n",
       "                       criterion='gini', max_depth=22, max_features='auto',\n",
       "                       max_leaf_nodes=None, max_samples=None,\n",
       "                       min_impurity_decrease=0.0, min_impurity_split=None,\n",
       "                       min_samples_leaf=6, min_samples_split=3,\n",
       "                       min_weight_fraction_leaf=0.0, n_estimators=1418,\n",
       "                       n_jobs=-1, oob_score=False, random_state=None, verbose=0,\n",
       "                       warm_start=False)"
      ]
     },
     "execution_count": 23,
     "metadata": {},
     "output_type": "execute_result"
    }
   ],
   "source": [
    "params=params_rf\n",
    "\n",
    "max_features = params[0]\n",
    "max_depth = params[1]\n",
    "min_samples_leaf = params[2]\n",
    "min_samples_split = params[3]\n",
    "n_estimators = params[4]\n",
    "\n",
    "min_df = params[5]\n",
    "ngram_range = (1, params[6])\n",
    "\n",
    "title_vec_rf = TfidfVectorizer(min_df=min_df, ngram_range=ngram_range)\n",
    "title_bow = title_vec_rf.fit_transform(title)\n",
    "\n",
    "X_up_wtitle = hstack([X_up, title_bow])\n",
    "\n",
    "rf= RandomForestClassifier(\n",
    "                           max_features=max_features,\n",
    "                           max_depth=max_depth,\n",
    "                           min_samples_leaf=min_samples_leaf,\n",
    "                           min_samples_split=min_samples_split,\n",
    "                           n_estimators=n_estimators,\n",
    "                           class_weight=\"balanced\", \n",
    "                           n_jobs=-1)\n",
    "\n",
    "rf.fit(X_up_wtitle,y_up)"
   ]
  },
  {
   "cell_type": "markdown",
   "metadata": {},
   "source": [
    "### Feito isso, eles foram salvos na extensão .pkl.z com o auxílio da biblioteca joblib"
   ]
  },
  {
   "cell_type": "code",
   "execution_count": 18,
   "metadata": {},
   "outputs": [],
   "source": [
    "import joblib as jb"
   ]
  },
  {
   "cell_type": "code",
   "execution_count": 24,
   "metadata": {},
   "outputs": [
    {
     "data": {
      "text/plain": [
       "['title_vectorizer_rf_20200727.pkl.z']"
      ]
     },
     "execution_count": 24,
     "metadata": {},
     "output_type": "execute_result"
    }
   ],
   "source": [
    "jb.dump(lgbm, \"lgbm_20200727.pkl.z\")\n",
    "jb.dump(title_vec_lgbm, \"title_vectorizer_lgbm_20200727.pkl.z\")\n",
    "\n",
    "jb.dump(rf, \"random_forest_20200727.pkl.z\")\n",
    "jb.dump(title_vec_rf, \"title_vectorizer_rf_20200727.pkl.z\")"
   ]
  },
  {
   "cell_type": "markdown",
   "metadata": {},
   "source": [
    "##       "
   ]
  },
  {
   "cell_type": "markdown",
   "metadata": {},
   "source": [
    "##       "
   ]
  }
 ],
 "metadata": {
  "kernelspec": {
   "display_name": "Python 3",
   "language": "python",
   "name": "python3"
  },
  "language_info": {
   "codemirror_mode": {
    "name": "ipython",
    "version": 3
   },
   "file_extension": ".py",
   "mimetype": "text/x-python",
   "name": "python",
   "nbconvert_exporter": "python",
   "pygments_lexer": "ipython3",
   "version": "3.7.3"
  }
 },
 "nbformat": 4,
 "nbformat_minor": 4
}
