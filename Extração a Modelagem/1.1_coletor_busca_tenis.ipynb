{
 "cells": [
  {
   "cell_type": "markdown",
   "metadata": {},
   "source": [
    "# Coletor de dados da busca do site RunRepeat"
   ]
  },
  {
   "cell_type": "markdown",
   "metadata": {},
   "source": [
    "<div>\n",
    "<img src=\"imagens/rr.png\" align=\"left\" />\n",
    "</div>"
   ]
  },
  {
   "cell_type": "markdown",
   "metadata": {},
   "source": [
    "<a href=\"https://runrepeat.com/\" target=\"_blank\">RunRepeat Official Website</a>"
   ]
  },
  {
   "cell_type": "markdown",
   "metadata": {},
   "source": [
    "---\n",
    "### Rodrigo Fragoso \n",
    "- [**Linkedin**](https://www.linkedin.com/in/rodrigo-a-fragoso/) <br/>\n",
    "- **Email** : rodrigoandradefragoso@gmail.com <br/>"
   ]
  },
  {
   "cell_type": "markdown",
   "metadata": {},
   "source": [
    "### Objetivo\n",
    "-  Nesta etapa, iremos coletar os dados disponíveis na página de busca para a categoria *running shoes* do site RunRepeat;\n",
    "-  Os outputs esperados são: o link da página de cada tênis disponível e, ocasionalmente, alguma informação adicional que possa ser aproveitada posteriormente.\n",
    "---"
   ]
  },
  {
   "cell_type": "markdown",
   "metadata": {},
   "source": [
    "<a id='top'></a>\n",
    "## Sumário\n",
    "\n",
    "* [1 - Importações das bibliotecas](#t1)\n",
    "\n",
    "* [2 - Coleta dos dados da página de busca](#t2)\n",
    "\n",
    "* [3 - Processamento dos dados brutos](#t3)\n",
    "\n",
    "* [4 - Verificação do resultado](#t4)\n"
   ]
  },
  {
   "cell_type": "markdown",
   "metadata": {},
   "source": [
    "##     "
   ]
  },
  {
   "cell_type": "markdown",
   "metadata": {},
   "source": [
    "<a id='t1'></a>\n",
    "## 1 - Importações das bibliotecas\n",
    "- [Sumário](#top)   \n",
    "    - [Próximo](#t2)"
   ]
  },
  {
   "cell_type": "markdown",
   "metadata": {},
   "source": [
    "### Para iniciarmos a extração será necessário o uso de algumas bibliotecas específicas que serão importadas na célula abaixo:\n",
    "-  Pandas: ferramenta rápida e poderosa, responsável pela manipulação/analise de dados através do formato *dataframe* ;\n",
    "-  re: modulo para realizar operações de correspondência (em texto) através de expressões regulares ;\n",
    "- time: modulo utilizado, principalmente, para cálculo de tempo de processamento e criação de *delays* ;\n",
    "- requests:  biblioteca HTTP utilizada para fazer o download do código fonte da página ;\n",
    "- bs4 (Beautiful Soup 4): biblioteca utilizada para extrair dados de arquivos HTML e XML, utilizada como *parser* para navegarmos dentro dos arquivos criados pela requests."
   ]
  },
  {
   "cell_type": "code",
   "execution_count": 1,
   "metadata": {},
   "outputs": [],
   "source": [
    "import pandas as pd\n",
    "import numpy as np\n",
    "import re\n",
    "import time\n",
    "\n",
    "import requests as rq\n",
    "import bs4 as bs4 \n",
    "import json"
   ]
  },
  {
   "cell_type": "markdown",
   "metadata": {},
   "source": [
    "##     "
   ]
  },
  {
   "cell_type": "markdown",
   "metadata": {},
   "source": [
    "<a id='t2'></a>\n",
    "## 2 - Coleta dos dados da página de busca\n",
    "- [Sumário](#top) \n",
    "    - [Anterior](#t1)\n",
    "    - [Próximo](#t3)"
   ]
  },
  {
   "cell_type": "markdown",
   "metadata": {},
   "source": [
    "### Nesta etapa, iremos navegar pela página de busca da classe *running shoes* e coletar as informações disponíveis em cada uma delas.\n",
    "- Primeiramente, são criadas algumas variáveis para auxiliar na organização dos dados que serão extraídos:"
   ]
  },
  {
   "cell_type": "code",
   "execution_count": 2,
   "metadata": {},
   "outputs": [],
   "source": [
    "url = \"https://runrepeat.com/ranking/rankings-of-running-shoes?page={page}\"\n",
    "pagina='pagina'"
   ]
  },
  {
   "cell_type": "markdown",
   "metadata": {},
   "source": [
    "- Na data em que o site foi acessado, percebemos que existiam 76 páginas na categoria desejada (em python, o limite superior do *for* não é utilizado, por isso temos o range até 77). Sendo assim, com o auxílio da biblioteca requests, os dados brutos foram salvos, um arquivo por página, no formato html ;\n",
    "- O delay de dois segundos foi inserido para evitar que o nosso acesso fosse bloqueado pela segurança do site ao fazer muitas requisições em um intervalo de tempo pequeno."
   ]
  },
  {
   "cell_type": "code",
   "execution_count": 3,
   "metadata": {},
   "outputs": [
    {
     "name": "stdout",
     "output_type": "stream",
     "text": [
      "https://runrepeat.com/ranking/rankings-of-running-shoes?page=1\n",
      "https://runrepeat.com/ranking/rankings-of-running-shoes?page=2\n",
      "https://runrepeat.com/ranking/rankings-of-running-shoes?page=3\n",
      "https://runrepeat.com/ranking/rankings-of-running-shoes?page=4\n",
      "https://runrepeat.com/ranking/rankings-of-running-shoes?page=5\n",
      "https://runrepeat.com/ranking/rankings-of-running-shoes?page=6\n",
      "https://runrepeat.com/ranking/rankings-of-running-shoes?page=7\n",
      "https://runrepeat.com/ranking/rankings-of-running-shoes?page=8\n",
      "https://runrepeat.com/ranking/rankings-of-running-shoes?page=9\n",
      "https://runrepeat.com/ranking/rankings-of-running-shoes?page=10\n",
      "https://runrepeat.com/ranking/rankings-of-running-shoes?page=11\n",
      "https://runrepeat.com/ranking/rankings-of-running-shoes?page=12\n",
      "https://runrepeat.com/ranking/rankings-of-running-shoes?page=13\n",
      "https://runrepeat.com/ranking/rankings-of-running-shoes?page=14\n",
      "https://runrepeat.com/ranking/rankings-of-running-shoes?page=15\n",
      "https://runrepeat.com/ranking/rankings-of-running-shoes?page=16\n",
      "https://runrepeat.com/ranking/rankings-of-running-shoes?page=17\n",
      "https://runrepeat.com/ranking/rankings-of-running-shoes?page=18\n",
      "https://runrepeat.com/ranking/rankings-of-running-shoes?page=19\n",
      "https://runrepeat.com/ranking/rankings-of-running-shoes?page=20\n",
      "https://runrepeat.com/ranking/rankings-of-running-shoes?page=21\n",
      "https://runrepeat.com/ranking/rankings-of-running-shoes?page=22\n",
      "https://runrepeat.com/ranking/rankings-of-running-shoes?page=23\n",
      "https://runrepeat.com/ranking/rankings-of-running-shoes?page=24\n",
      "https://runrepeat.com/ranking/rankings-of-running-shoes?page=25\n",
      "https://runrepeat.com/ranking/rankings-of-running-shoes?page=26\n",
      "https://runrepeat.com/ranking/rankings-of-running-shoes?page=27\n",
      "https://runrepeat.com/ranking/rankings-of-running-shoes?page=28\n",
      "https://runrepeat.com/ranking/rankings-of-running-shoes?page=29\n",
      "https://runrepeat.com/ranking/rankings-of-running-shoes?page=30\n",
      "https://runrepeat.com/ranking/rankings-of-running-shoes?page=31\n",
      "https://runrepeat.com/ranking/rankings-of-running-shoes?page=32\n",
      "https://runrepeat.com/ranking/rankings-of-running-shoes?page=33\n",
      "https://runrepeat.com/ranking/rankings-of-running-shoes?page=34\n",
      "https://runrepeat.com/ranking/rankings-of-running-shoes?page=35\n",
      "https://runrepeat.com/ranking/rankings-of-running-shoes?page=36\n",
      "https://runrepeat.com/ranking/rankings-of-running-shoes?page=37\n",
      "https://runrepeat.com/ranking/rankings-of-running-shoes?page=38\n",
      "https://runrepeat.com/ranking/rankings-of-running-shoes?page=39\n",
      "https://runrepeat.com/ranking/rankings-of-running-shoes?page=40\n",
      "https://runrepeat.com/ranking/rankings-of-running-shoes?page=41\n",
      "https://runrepeat.com/ranking/rankings-of-running-shoes?page=42\n",
      "https://runrepeat.com/ranking/rankings-of-running-shoes?page=43\n",
      "https://runrepeat.com/ranking/rankings-of-running-shoes?page=44\n",
      "https://runrepeat.com/ranking/rankings-of-running-shoes?page=45\n",
      "https://runrepeat.com/ranking/rankings-of-running-shoes?page=46\n",
      "https://runrepeat.com/ranking/rankings-of-running-shoes?page=47\n",
      "https://runrepeat.com/ranking/rankings-of-running-shoes?page=48\n",
      "https://runrepeat.com/ranking/rankings-of-running-shoes?page=49\n",
      "https://runrepeat.com/ranking/rankings-of-running-shoes?page=50\n",
      "https://runrepeat.com/ranking/rankings-of-running-shoes?page=51\n",
      "https://runrepeat.com/ranking/rankings-of-running-shoes?page=52\n",
      "https://runrepeat.com/ranking/rankings-of-running-shoes?page=53\n",
      "https://runrepeat.com/ranking/rankings-of-running-shoes?page=54\n",
      "https://runrepeat.com/ranking/rankings-of-running-shoes?page=55\n",
      "https://runrepeat.com/ranking/rankings-of-running-shoes?page=56\n",
      "https://runrepeat.com/ranking/rankings-of-running-shoes?page=57\n",
      "https://runrepeat.com/ranking/rankings-of-running-shoes?page=58\n",
      "https://runrepeat.com/ranking/rankings-of-running-shoes?page=59\n",
      "https://runrepeat.com/ranking/rankings-of-running-shoes?page=60\n",
      "https://runrepeat.com/ranking/rankings-of-running-shoes?page=61\n",
      "https://runrepeat.com/ranking/rankings-of-running-shoes?page=62\n",
      "https://runrepeat.com/ranking/rankings-of-running-shoes?page=63\n",
      "https://runrepeat.com/ranking/rankings-of-running-shoes?page=64\n",
      "https://runrepeat.com/ranking/rankings-of-running-shoes?page=65\n",
      "https://runrepeat.com/ranking/rankings-of-running-shoes?page=66\n",
      "https://runrepeat.com/ranking/rankings-of-running-shoes?page=67\n",
      "https://runrepeat.com/ranking/rankings-of-running-shoes?page=68\n",
      "https://runrepeat.com/ranking/rankings-of-running-shoes?page=69\n",
      "https://runrepeat.com/ranking/rankings-of-running-shoes?page=70\n",
      "https://runrepeat.com/ranking/rankings-of-running-shoes?page=71\n",
      "https://runrepeat.com/ranking/rankings-of-running-shoes?page=72\n",
      "https://runrepeat.com/ranking/rankings-of-running-shoes?page=73\n",
      "https://runrepeat.com/ranking/rankings-of-running-shoes?page=74\n",
      "https://runrepeat.com/ranking/rankings-of-running-shoes?page=75\n",
      "https://runrepeat.com/ranking/rankings-of-running-shoes?page=76\n"
     ]
    }
   ],
   "source": [
    "for page in range(1,77):\n",
    "    urll = url.format(page=page)\n",
    "    print(urll)\n",
    "    response = rq.get(urll)\n",
    "\n",
    "    with open(\"./dados_brutos/{}_{}.html\".format(pagina,page), 'w+',encoding=\"utf-8\") as output:\n",
    "        output.write(response.text)\n",
    "    time.sleep(2)"
   ]
  },
  {
   "cell_type": "markdown",
   "metadata": {},
   "source": [
    "##     "
   ]
  },
  {
   "cell_type": "markdown",
   "metadata": {},
   "source": [
    "<a id='t3'></a>\n",
    "## 3 - Processamento dos dados brutos\n",
    "- [Sumário](#top) \n",
    "    - [Anterior](#t2)\n",
    "    - [Próximo](#t4)"
   ]
  },
  {
   "cell_type": "markdown",
   "metadata": {},
   "source": [
    "### Após navegar pelo código fonte da página, é possível identificar algumas *tags* que \"guardam\" cada informação do site. No nosso caso, recuperamos o link e o nome correspondente a cada tênis disponível.\n",
    "- Com o auxílio do bs4, os dados extraídos foram salvos em um arquivo JSON."
   ]
  },
  {
   "cell_type": "code",
   "execution_count": 4,
   "metadata": {},
   "outputs": [],
   "source": [
    "for page in range(1,77):\n",
    "    with open(\"./dados_brutos/{}_{}.html\".format(pagina, page), 'r+',encoding=\"utf-8\") as inp:\n",
    "        page_html = inp.read()\n",
    "\n",
    "        parsed = bs4.BeautifulSoup(page_html)\n",
    "\n",
    "        tags = parsed.findAll(\"a\")\n",
    "\n",
    "        for e in tags:\n",
    "            if e.has_attr(\"data-v-45baff66\") and e.find(\"span\", itemprop=\"name\") != None:\n",
    "                link = e['href']\n",
    "                tenis= e.find(\"span\", itemprop=\"name\").get_text()\n",
    "                with open(\"./dados_json/parsed_running_shoes.json\", 'a+',encoding=\"utf-8\") as output:\n",
    "                    data = {\"link\": link, \"name\": tenis}\n",
    "                    output.write(\"{}\\n\".format(json.dumps(data)))"
   ]
  },
  {
   "cell_type": "markdown",
   "metadata": {},
   "source": [
    "##     "
   ]
  },
  {
   "cell_type": "markdown",
   "metadata": {},
   "source": [
    "<a id='t4'></a>\n",
    "## 4 - Verificação do resultado\n",
    "- [Sumário](#top) \n",
    "    - [Anterior](#t3)"
   ]
  },
  {
   "cell_type": "markdown",
   "metadata": {},
   "source": [
    "### Para finalizar este processo, é feita uma verificação dos dados obtidos.\n",
    "- Para visualização transformamos o arquivo JSON no formato *dataframe* do pandas e verificamos os 7 primeiros e últimos registros;\n",
    "- Os dados foram coletados com êxito;\n",
    "- Podemos perceber que existem alguns registros duplicados, porém trataremos isto em outra etapa."
   ]
  },
  {
   "cell_type": "code",
   "execution_count": 5,
   "metadata": {},
   "outputs": [],
   "source": [
    "df = pd.read_json(\"./dados_json/parsed_running_shoes.json\", lines=True)"
   ]
  },
  {
   "cell_type": "code",
   "execution_count": 6,
   "metadata": {},
   "outputs": [
    {
     "data": {
      "text/html": [
       "<div>\n",
       "<style scoped>\n",
       "    .dataframe tbody tr th:only-of-type {\n",
       "        vertical-align: middle;\n",
       "    }\n",
       "\n",
       "    .dataframe tbody tr th {\n",
       "        vertical-align: top;\n",
       "    }\n",
       "\n",
       "    .dataframe thead th {\n",
       "        text-align: right;\n",
       "    }\n",
       "</style>\n",
       "<table border=\"1\" class=\"dataframe\">\n",
       "  <thead>\n",
       "    <tr style=\"text-align: right;\">\n",
       "      <th></th>\n",
       "      <th>link</th>\n",
       "      <th>name</th>\n",
       "    </tr>\n",
       "  </thead>\n",
       "  <tbody>\n",
       "    <tr>\n",
       "      <th>0</th>\n",
       "      <td>/brooks-adrenaline-gts-19?selected_color=422261</td>\n",
       "      <td>Brooks Adrenaline GTS 19</td>\n",
       "    </tr>\n",
       "    <tr>\n",
       "      <th>1</th>\n",
       "      <td>/brooks-adrenaline-gts-19?selected_color=422261</td>\n",
       "      <td>Brooks Adrenaline GTS 19</td>\n",
       "    </tr>\n",
       "    <tr>\n",
       "      <th>2</th>\n",
       "      <td>/brooks-ghost-12?selected_color=799577</td>\n",
       "      <td>Brooks Ghost 12</td>\n",
       "    </tr>\n",
       "    <tr>\n",
       "      <th>3</th>\n",
       "      <td>/brooks-ghost-12?selected_color=799577</td>\n",
       "      <td>Brooks Ghost 12</td>\n",
       "    </tr>\n",
       "    <tr>\n",
       "      <th>4</th>\n",
       "      <td>/brooks-glycerin-17?selected_color=642780</td>\n",
       "      <td>Brooks Glycerin 17</td>\n",
       "    </tr>\n",
       "    <tr>\n",
       "      <th>5</th>\n",
       "      <td>/brooks-glycerin-17?selected_color=642780</td>\n",
       "      <td>Brooks Glycerin 17</td>\n",
       "    </tr>\n",
       "    <tr>\n",
       "      <th>6</th>\n",
       "      <td>/nike-air-zoom-pegasus-36?selected_color=712129</td>\n",
       "      <td>Nike Air Zoom Pegasus 36</td>\n",
       "    </tr>\n",
       "  </tbody>\n",
       "</table>\n",
       "</div>"
      ],
      "text/plain": [
       "                                              link                      name\n",
       "0  /brooks-adrenaline-gts-19?selected_color=422261  Brooks Adrenaline GTS 19\n",
       "1  /brooks-adrenaline-gts-19?selected_color=422261  Brooks Adrenaline GTS 19\n",
       "2           /brooks-ghost-12?selected_color=799577           Brooks Ghost 12\n",
       "3           /brooks-ghost-12?selected_color=799577           Brooks Ghost 12\n",
       "4        /brooks-glycerin-17?selected_color=642780        Brooks Glycerin 17\n",
       "5        /brooks-glycerin-17?selected_color=642780        Brooks Glycerin 17\n",
       "6  /nike-air-zoom-pegasus-36?selected_color=712129  Nike Air Zoom Pegasus 36"
      ]
     },
     "execution_count": 6,
     "metadata": {},
     "output_type": "execute_result"
    }
   ],
   "source": [
    "df.head(7)"
   ]
  },
  {
   "cell_type": "code",
   "execution_count": 7,
   "metadata": {},
   "outputs": [
    {
     "data": {
      "text/html": [
       "<div>\n",
       "<style scoped>\n",
       "    .dataframe tbody tr th:only-of-type {\n",
       "        vertical-align: middle;\n",
       "    }\n",
       "\n",
       "    .dataframe tbody tr th {\n",
       "        vertical-align: top;\n",
       "    }\n",
       "\n",
       "    .dataframe thead th {\n",
       "        text-align: right;\n",
       "    }\n",
       "</style>\n",
       "<table border=\"1\" class=\"dataframe\">\n",
       "  <thead>\n",
       "    <tr style=\"text-align: right;\">\n",
       "      <th></th>\n",
       "      <th>link</th>\n",
       "      <th>name</th>\n",
       "    </tr>\n",
       "  </thead>\n",
       "  <tbody>\n",
       "    <tr>\n",
       "      <th>9101</th>\n",
       "      <td>/hoka-one-one-huaka-2</td>\n",
       "      <td>Hoka One One Huaka 2</td>\n",
       "    </tr>\n",
       "    <tr>\n",
       "      <th>9102</th>\n",
       "      <td>/salming-race-7</td>\n",
       "      <td>Salming Race 7</td>\n",
       "    </tr>\n",
       "    <tr>\n",
       "      <th>9103</th>\n",
       "      <td>/salming-race-7</td>\n",
       "      <td>Salming Race 7</td>\n",
       "    </tr>\n",
       "    <tr>\n",
       "      <th>9104</th>\n",
       "      <td>/mizuno-wave-rider-tt</td>\n",
       "      <td>Mizuno Wave Rider TT</td>\n",
       "    </tr>\n",
       "    <tr>\n",
       "      <th>9105</th>\n",
       "      <td>/mizuno-wave-rider-tt</td>\n",
       "      <td>Mizuno Wave Rider TT</td>\n",
       "    </tr>\n",
       "    <tr>\n",
       "      <th>9106</th>\n",
       "      <td>/salming-trail-t4?selected_color=852528</td>\n",
       "      <td>Salming Trail T4</td>\n",
       "    </tr>\n",
       "    <tr>\n",
       "      <th>9107</th>\n",
       "      <td>/salming-trail-t4?selected_color=852528</td>\n",
       "      <td>Salming Trail T4</td>\n",
       "    </tr>\n",
       "  </tbody>\n",
       "</table>\n",
       "</div>"
      ],
      "text/plain": [
       "                                         link                  name\n",
       "9101                    /hoka-one-one-huaka-2  Hoka One One Huaka 2\n",
       "9102                          /salming-race-7        Salming Race 7\n",
       "9103                          /salming-race-7        Salming Race 7\n",
       "9104                    /mizuno-wave-rider-tt  Mizuno Wave Rider TT\n",
       "9105                    /mizuno-wave-rider-tt  Mizuno Wave Rider TT\n",
       "9106  /salming-trail-t4?selected_color=852528      Salming Trail T4\n",
       "9107  /salming-trail-t4?selected_color=852528      Salming Trail T4"
      ]
     },
     "execution_count": 7,
     "metadata": {},
     "output_type": "execute_result"
    }
   ],
   "source": [
    "df.tail(7)"
   ]
  }
 ],
 "metadata": {
  "kernelspec": {
   "display_name": "Python 3",
   "language": "python",
   "name": "python3"
  },
  "language_info": {
   "codemirror_mode": {
    "name": "ipython",
    "version": 3
   },
   "file_extension": ".py",
   "mimetype": "text/x-python",
   "name": "python",
   "nbconvert_exporter": "python",
   "pygments_lexer": "ipython3",
   "version": "3.7.3"
  }
 },
 "nbformat": 4,
 "nbformat_minor": 4
}
