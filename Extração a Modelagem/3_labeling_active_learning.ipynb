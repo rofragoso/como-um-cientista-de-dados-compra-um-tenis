{
 "cells": [
  {
   "cell_type": "markdown",
   "metadata": {},
   "source": [
    "# Anotação dos dados (*Data labeling*) - *Active Learning*"
   ]
  },
  {
   "cell_type": "markdown",
   "metadata": {},
   "source": [
    "<div>\n",
    "<img src=\"imagens/label.jpg\" align=\"left\" width=\"400\"/>\n",
    "</div>"
   ]
  },
  {
   "cell_type": "markdown",
   "metadata": {},
   "source": [
    "---\n",
    "### Rodrigo Fragoso \n",
    "- [**Linkedin**](https://www.linkedin.com/in/rodrigo-a-fragoso/) <br/>\n",
    "- **Email** : rodrigoandradefragoso@gmail.com <br/>"
   ]
  },
  {
   "cell_type": "markdown",
   "metadata": {},
   "source": [
    "### Objetivo\n",
    "-  Como estamos trabalhando com dados novos e sem anotações, será necessário utilizar alguma metodologia para inserir anotações em algumas linhas.\n",
    "-  O output esperado é um *dataframe* com uma nova coluna, no qual 1 representa recomendado e 0 não recomendado.\n",
    "---"
   ]
  },
  {
   "cell_type": "markdown",
   "metadata": {},
   "source": [
    "<a id='top'></a>\n",
    "## Sumário\n",
    "\n",
    "* [1 - Importações das bibliotecas](#t1)\n",
    "\n",
    "* [2 - Active Learning (labeling)](#t2)\n",
    "    * [2.1 - Processamento das variáveis de texto](#t2_1)\n",
    "    * [2.2 - Random Forest *Vanilla* e Validação Cruzada](#t2_2)\n",
    "    * [2.3 - Seleção dos exemplos difíceis](#t2_3)<br>\n",
    "<br>\n",
    "\n",
    "* [3 - Verificação dos resultados](#t3)\n",
    "\n"
   ]
  },
  {
   "cell_type": "markdown",
   "metadata": {},
   "source": [
    "##     "
   ]
  },
  {
   "cell_type": "markdown",
   "metadata": {},
   "source": [
    "<a id='t1'></a>\n",
    "## 1 - Importações das bibliotecas\n",
    "- [Sumário](#top)   \n",
    "    - [Próximo](#t2)"
   ]
  },
  {
   "cell_type": "markdown",
   "metadata": {},
   "source": [
    "### Para iniciarmos a extração será necessário o uso de algumas bibliotecas específicas, que serão importadas na célula abaixo:"
   ]
  },
  {
   "cell_type": "code",
   "execution_count": 1,
   "metadata": {},
   "outputs": [],
   "source": [
    "import pandas as pd\n",
    "import numpy as np\n",
    "\n",
    "import seaborn as sns\n",
    "import matplotlib.pyplot as plt\n",
    "\n",
    "import warnings\n",
    "warnings.filterwarnings(\"ignore\")"
   ]
  },
  {
   "cell_type": "markdown",
   "metadata": {},
   "source": [
    "##     "
   ]
  },
  {
   "cell_type": "markdown",
   "metadata": {},
   "source": [
    "<a id='t2'></a>\n",
    "## 2 - Active Learning (labeling)\n",
    "- [Sumário](#top) \n",
    "    - [Anterior](#t1)\n",
    "    - [Próximo](#t2_1)"
   ]
  },
  {
   "cell_type": "markdown",
   "metadata": {},
   "source": [
    "### Afim de simular um projeto real, no qual seriam necessários especialistas para realizar as anotações nos nossos dados e considerando que esse processo fosse custoso para a companhia, resolvemos simular a metodologia do *Active Learning*.\n",
    "### O primeiro passo foi anotar 555 exemplos do nosso modelo e avaliar a sua performance. \n",
    "### Com o modelo treinado, é possível avaliar, em todo *dataset*, quais são os exemplos que ele está com maior dificuldade de classificar. Desse modo, poderíamos encaminhar estes exemplos considerados \"difíceis\" para o serviço de anotação, retreinar o modelo e provavelmente aumentar nossa performance de forma otimizada, tanto da visão operacional como financeira.\n",
    "### Vale lembrar que no passo anterior também são incluídos alguns exemplos aleatórios, com o intuito de aumentar, em uma abordagem diferente da seleção dos difíceis, a capacidade de generalização do nosso modelo."
   ]
  },
  {
   "cell_type": "markdown",
   "metadata": {},
   "source": [
    "##     "
   ]
  },
  {
   "cell_type": "markdown",
   "metadata": {},
   "source": [
    "<a id='t2_1'></a>\n",
    "## 2.1 - Processamento das variáveis de texto\n",
    "- [Sumário](#top) \n",
    "    - [Anterior](#t2)\n",
    "    - [Próximo](#t2_2)"
   ]
  },
  {
   "cell_type": "markdown",
   "metadata": {},
   "source": [
    "### Primeiro, é carregado o novo *dataset* com as 555 anotações. O *dropna( )* é utilizado para remover todos os exemplos que não contenham a anotação que está alocada na variável **y** e é validado com o argumento *shape( )* que ele foi carregado corretamente."
   ]
  },
  {
   "cell_type": "code",
   "execution_count": 2,
   "metadata": {},
   "outputs": [
    {
     "data": {
      "text/plain": [
       "(555, 96)"
      ]
     },
     "execution_count": 2,
     "metadata": {},
     "output_type": "execute_result"
    }
   ],
   "source": [
    "df = pd.read_csv('./dados_tratados/dados_tratados_555_labels.csv',delimiter=';').dropna(subset=['y'])\n",
    "df.shape"
   ]
  },
  {
   "cell_type": "code",
   "execution_count": 3,
   "metadata": {},
   "outputs": [],
   "source": [
    "X= df.copy().drop(columns=['y'])\n",
    "y= df['y'].copy()"
   ]
  },
  {
   "cell_type": "markdown",
   "metadata": {},
   "source": [
    "### A *feature* *'good_reasons_to_buy'* foi escolhida por demonstrar uma maior variedade de palavras.\n",
    "\n",
    "### Para processar esta variável foi utilizado o TfidfVectorizer( ), presente no **sklearn**. Esse transformador constrói uma *Bag of Words* (BoW), mas ao invés de contabilizar diretamente o valor exato de quantas palavras existem naquela *string*, como é feito com o CountVectorizer( ), ele utiliza uma abordagem que leva em conta a frequência daquela palavra em todos os exemplos e garante um maior valor para aquelas mais \"raras\" e um valor mais baixo para as comuns.\n",
    "\n",
    "### A principal vantagem desse método é que as palavras que ocorrem com muita frequência geralmente possuem menor importância e acabam \"recebendo\" um valor mais irrelevante na nossa BoW, deixando maior espaço para *features* que aparecem apenas em certos grupos dos nossos exemplos e tendem a possuir um maior valor preditivo.\n",
    "\n",
    "### Os dois argumentos da função possuem o seguinte objetivo:\n",
    "* min_df(X) : apenas registrar palavras que apareçam em X exemplos;\n",
    "* ngram_range(a,b) : indica quais grams iremos utilizar. Exemplo (1,3) irá utilizar o unigram (que é uma palvra), o bigram (que é o conjunto de duas palavras sequenciais) e o trigram.\n",
    "* Foi escolhido um valor padrão para iniciar análise que será otimizado no próximo notebook.\n",
    "\n",
    "###  Obs: O BoW costuma ter uma estrutura esparsa por possuir diversos valores nulos, desse modo ela é salva como uma matriz esparsa."
   ]
  },
  {
   "cell_type": "code",
   "execution_count": 4,
   "metadata": {},
   "outputs": [
    {
     "data": {
      "text/plain": [
       "(555, 4096)"
      ]
     },
     "execution_count": 4,
     "metadata": {},
     "output_type": "execute_result"
    }
   ],
   "source": [
    "from sklearn.feature_extraction.text import TfidfVectorizer\n",
    "\n",
    "title= X['good_reasons_to_buy'].fillna(' ')\n",
    "\n",
    "title_vec = TfidfVectorizer(min_df=3, ngram_range=(1,2))\n",
    "title_bow = title_vec.fit_transform(title)\n",
    "\n",
    "# print('Foram adicionadas {n} novas features'.format(n=title_bow_train.shape[1]))\n",
    "title_bow.shape"
   ]
  },
  {
   "cell_type": "code",
   "execution_count": 5,
   "metadata": {},
   "outputs": [],
   "source": [
    "X=X.copy().drop(columns=['shoes_name','link','image','bad_reasons_to_buy','good_reasons_to_buy'])"
   ]
  },
  {
   "cell_type": "markdown",
   "metadata": {},
   "source": [
    "### Para juntar a BoW, que está como uma matriz esparsa, com o nosso *dataset* foi utilizada a funcão **hstack** do **scipy**, que realiza a junção horizontal desses dois conjuntos de dados."
   ]
  },
  {
   "cell_type": "code",
   "execution_count": 6,
   "metadata": {},
   "outputs": [],
   "source": [
    "from scipy.sparse import hstack\n",
    "\n",
    "X_wtitle = hstack([X, title_bow])"
   ]
  },
  {
   "cell_type": "markdown",
   "metadata": {},
   "source": [
    "##     "
   ]
  },
  {
   "cell_type": "markdown",
   "metadata": {},
   "source": [
    "<a id='t2_2'></a>\n",
    "## 2.2 - Random Forest *Vanilla* e Validação Cruzada\n",
    "- [Sumário](#top) \n",
    "    - [Anterior](#t2_1)\n",
    "    - [Próximo](#t2_3)"
   ]
  },
  {
   "cell_type": "markdown",
   "metadata": {},
   "source": [
    "---"
   ]
  },
  {
   "cell_type": "markdown",
   "metadata": {},
   "source": [
    "### Com o *dataset* pronto para uso, é possível criar o modelo para classificar os tênis que são recomendados para o usuário.\n",
    "\n",
    "### Como temos uma quantidade relativamente pequena de dados anotados, foi escolhida a técnica de validação cruzada utilizando duas métricas: o AUC ROC-curve e a *Average Precision*, para avaliar a performance do nosso modelo.\n",
    "\n",
    "### A validação cruzada foi escolhida por ser uma técnica que avalia robustamente a capacidade de generalização do modelo. Para isso, os dados são divididos em blocos (*Folds*) e são criadas diferentes combinações de treino/validação com esses blocos, afim de reduzir as chances de pegar apenas uma combinação enviesada, o que pode ocorrer quando utilizamos o train_test_split( ), principalmente em dados pequenos. A imagem abaixo, demonstra visualmente o processo de Validação Cruzada:\n",
    "<div>\n",
    "<img src=\"imagens/cv.png\" align=\"left\" width=\"400\"/>\n",
    "</div>\n"
   ]
  },
  {
   "cell_type": "markdown",
   "metadata": {},
   "source": [
    "### A AUC- ROC curve é uma métrica que avalia a capacidade do modelo em distinguir as diferentes classes. Para isso, é calculada a área abaixo da curva ROC (*True positive x False Posistive*) e quanto maior o seu valor, melhor ele estará distinguindo os tênis que se adequam e não se adequam ao usuário."
   ]
  },
  {
   "cell_type": "markdown",
   "metadata": {},
   "source": [
    "### A precisão pode ser interpretada como: \"dos exemplos que eu classifiquei como certos, quantos eram realmente certos?\"\n",
    "### Ao tratar de modelos de classificação, são geradas algumas \"probabilidades\" para cada exemplo, tradicionalmente se ela for maior que 0.5 ela é definida como positiva. Esse valor de corte é conhecido como *threshold* e pode ser alterado. Ao testar todos *thresholds* num intervalo de (0,1) são gerados diversos valores de precisão para o mesmo modelo, a média de todos esses valores é denominada *Average Precision*, sendo a métrica que será utilizada.\n",
    "---\n"
   ]
  },
  {
   "cell_type": "markdown",
   "metadata": {},
   "source": [
    "### Com o método de validação e as métricas definidas, foi criada uma função que atua da seguinte forma:\n",
    "* **train_roc_viz( )**:\n",
    "    1. Com o modelo selecionado, é feita a validação cruzada naqueles dados e são salvos os valores da *average precision e AUC-ROC* por cada *fold*;\n",
    "    2. São calculados os valores médios das metricas utilizadas;\n",
    "    3. É feita uma visualização para facilitar a interpretação dos resultados\n",
    "* Obs: o modelo é um *input* nesta função"
   ]
  },
  {
   "cell_type": "code",
   "execution_count": 7,
   "metadata": {},
   "outputs": [],
   "source": [
    "sns.set(style='white',font_scale=1.3, rc={'figure.figsize':(10,7)})"
   ]
  },
  {
   "cell_type": "code",
   "execution_count": 8,
   "metadata": {},
   "outputs": [],
   "source": [
    "from scipy import interp\n",
    "from sklearn.metrics import roc_auc_score, average_precision_score, roc_curve ,auc , confusion_matrix\n",
    "from sklearn.ensemble import RandomForestClassifier\n",
    "from sklearn.model_selection import RepeatedKFold\n",
    "\n",
    "def train_roc_viz(X,y,model):\n",
    "    resultados_aps=[]\n",
    "    resultados_roc=[]\n",
    "    tprs=[]\n",
    "    i=1\n",
    "\n",
    "    kf= RepeatedKFold(n_splits=2, n_repeats=1, random_state=5)\n",
    "\n",
    "    for train,valid in kf.split(X):\n",
    "\n",
    "        Xtr, Xvld = X.toarray()[train,:], X.toarray()[valid,:]\n",
    "        ytr, yvld = y.iloc[train], y.iloc[valid]\n",
    "\n",
    "        rf.fit(Xtr,ytr)\n",
    "        p=rf.predict(Xvld)\n",
    "\n",
    "        aps=average_precision_score(yvld, p)\n",
    "        resultados_aps.append(aps)\n",
    "        roc=roc_auc_score(yvld, p)\n",
    "        resultados_roc.append(roc)\n",
    "\n",
    "        # Roc by fold plt\n",
    "        f = plt.figure(1)\n",
    "        fpr, tpr, t = roc_curve(yvld, p)   \n",
    "        mean_fpr=np.linspace(0,1,100)\n",
    "        tprs.append(interp(mean_fpr, fpr, tpr))\n",
    "        roc_auc = auc(fpr, tpr)\n",
    "        plt.plot(fpr, tpr, lw=2, alpha=0.3, label='ROC Fold %d (AUC = %0.4f APS = %0.4f)' % (i,roc,aps))\n",
    "\n",
    "        i=i+1\n",
    "        \n",
    "    # Roc average plt\n",
    "    f = plt.figure(1)\n",
    "    plt.plot([0,1],[0,1],linestyle = '--',lw = 2,color = 'grey')\n",
    "    mean_tpr = np.mean(tprs, axis=0)\n",
    "    mean_auc = auc(mean_fpr, mean_tpr)\n",
    "    plt.plot(mean_fpr, mean_tpr, color='blue',\n",
    "             label=r'Mean ROC (AUC = %0.4f APS = %0.4f)' % (np.mean(resultados_roc),np.mean(resultados_aps)),lw=2, alpha=1)\n",
    "\n",
    "    plt.xlabel('False Positive Rate')\n",
    "    plt.ylabel('True Positive Rate')\n",
    "    plt.title(str('Random Forest')+' ROC curve by folds')\n",
    "    plt.legend(loc=\"lower right\")"
   ]
  },
  {
   "cell_type": "markdown",
   "metadata": {},
   "source": [
    "### Para a avaliação é utilizada uma Random Forest *Vanilla*, que possui valores comuns dos hiperparâmetros. O class_weight=1 é utilizado por estarmos tratando de dados desbalanceados, então este argumento propõe compensar este fato dando mais \"importância\" para os valores menos frequentes."
   ]
  },
  {
   "cell_type": "code",
   "execution_count": 9,
   "metadata": {},
   "outputs": [
    {
     "data": {
      "image/png": "[encoded data removed]",
      "text/plain": [
       "<Figure size 720x504 with 1 Axes>"
      ]
     },
     "metadata": {},
     "output_type": "display_data"
    }
   ],
   "source": [
    "rf= RandomForestClassifier(n_estimators=1000,min_samples_leaf=1,class_weight=\"balanced\", n_jobs=-1, random_state=1)\n",
    "\n",
    "train_roc_viz(X_wtitle,y,rf)"
   ]
  },
  {
   "cell_type": "markdown",
   "metadata": {},
   "source": [
    "### O modelo não teve uma perfomance excelente, o que tentará ser melhorado com o *Active Learning*"
   ]
  },
  {
   "cell_type": "markdown",
   "metadata": {},
   "source": [
    "##        "
   ]
  },
  {
   "cell_type": "markdown",
   "metadata": {},
   "source": [
    "<a id='t2_3'></a>\n",
    "## 2.3 - Seleção dos exemplos difíceis\n",
    "- [Sumário](#top) \n",
    "    - [Anterior](#t2_2)\n",
    "    - [Próximo](#t3)"
   ]
  },
  {
   "cell_type": "markdown",
   "metadata": {},
   "source": [
    "### Dando prosseguimento a metodologia, iremos treinar uma Random Forest com os mesmos parâmetros, mas utilizando todos os dados disponíveis até o momento"
   ]
  },
  {
   "cell_type": "code",
   "execution_count": 10,
   "metadata": {},
   "outputs": [
    {
     "data": {
      "text/plain": [
       "RandomForestClassifier(bootstrap=True, ccp_alpha=0.0, class_weight='balanced',\n",
       "                       criterion='gini', max_depth=None, max_features='auto',\n",
       "                       max_leaf_nodes=None, max_samples=None,\n",
       "                       min_impurity_decrease=0.0, min_impurity_split=None,\n",
       "                       min_samples_leaf=1, min_samples_split=2,\n",
       "                       min_weight_fraction_leaf=0.0, n_estimators=1000,\n",
       "                       n_jobs=-1, oob_score=False, random_state=1, verbose=0,\n",
       "                       warm_start=False)"
      ]
     },
     "execution_count": 10,
     "metadata": {},
     "output_type": "execute_result"
    }
   ],
   "source": [
    "rf.fit(X_wtitle,y)"
   ]
  },
  {
   "cell_type": "markdown",
   "metadata": {},
   "source": [
    "### Para selecionar novos exemplos para anotação, foram utilizados apenas aqueles que ainda não tinham anotações, os *unlabeleds*"
   ]
  },
  {
   "cell_type": "code",
   "execution_count": 11,
   "metadata": {},
   "outputs": [],
   "source": [
    "df_unlabeled = pd.read_csv('./dados_tratados/dados_tratados_555_labels.csv',delimiter=';')\n",
    "df_unlabeled = df_unlabeled[df_unlabeled['y'].isnull()].dropna(how='all').drop(columns=['y'])"
   ]
  },
  {
   "cell_type": "code",
   "execution_count": 12,
   "metadata": {},
   "outputs": [
    {
     "data": {
      "text/plain": [
       "(1722, 95)"
      ]
     },
     "execution_count": 12,
     "metadata": {},
     "output_type": "execute_result"
    }
   ],
   "source": [
    "df_unlabeled.shape"
   ]
  },
  {
   "cell_type": "markdown",
   "metadata": {},
   "source": [
    "### Aqui foi feita a mesma transformação de texto utilizada anteriormente, treinada com os dados anotados."
   ]
  },
  {
   "cell_type": "code",
   "execution_count": 13,
   "metadata": {},
   "outputs": [],
   "source": [
    "X2=df_unlabeled\n",
    "\n",
    "title_train = df_unlabeled['good_reasons_to_buy'].fillna(' ')\n",
    "\n",
    "title_bow_train = title_vec.transform(title_train)\n",
    "\n",
    "X2=X2.drop(columns=['shoes_name','link','image','bad_reasons_to_buy','good_reasons_to_buy'])\n",
    "\n",
    "from scipy.sparse import hstack, vstack\n",
    "\n",
    "X2_wtitle = hstack([X2, title_bow_train])"
   ]
  },
  {
   "cell_type": "code",
   "execution_count": 14,
   "metadata": {},
   "outputs": [
    {
     "data": {
      "text/plain": [
       "(1722, 90)"
      ]
     },
     "execution_count": 14,
     "metadata": {},
     "output_type": "execute_result"
    }
   ],
   "source": [
    "X2.shape"
   ]
  },
  {
   "cell_type": "markdown",
   "metadata": {},
   "source": [
    "### Como foi dito, é possível adquirir as \"probabilidades\" geradas pelo modelo. No **scikit learn**, isso é feito atraves da função predict_proba( ). Com ela, são geradas os novos valores para os exemplos não anotados"
   ]
  },
  {
   "cell_type": "code",
   "execution_count": 15,
   "metadata": {},
   "outputs": [],
   "source": [
    "p2 = rf.predict_proba(X2_wtitle)[:, 1]\n",
    "X2['pred']=p2"
   ]
  },
  {
   "cell_type": "code",
   "execution_count": 16,
   "metadata": {},
   "outputs": [
    {
     "data": {
      "text/plain": [
       "(1722, 91)"
      ]
     },
     "execution_count": 16,
     "metadata": {},
     "output_type": "execute_result"
    }
   ],
   "source": [
    "X2.shape"
   ]
  },
  {
   "cell_type": "markdown",
   "metadata": {},
   "source": [
    "### É feito um *merge* com os dados originais, com o intuito de resgatar as informações que foram excluídas para o treinamento como nome do tênis, link, link da imagem e outras"
   ]
  },
  {
   "cell_type": "code",
   "execution_count": 17,
   "metadata": {},
   "outputs": [],
   "source": [
    "cols_to_use = df_unlabeled.columns.difference(X2.columns)\n",
    "result2=pd.merge(df_unlabeled[cols_to_use], X2, left_index=True, right_index=True)"
   ]
  },
  {
   "cell_type": "code",
   "execution_count": 18,
   "metadata": {},
   "outputs": [
    {
     "data": {
      "text/plain": [
       "(1722, 96)"
      ]
     },
     "execution_count": 18,
     "metadata": {},
     "output_type": "execute_result"
    }
   ],
   "source": [
    "result2.shape"
   ]
  },
  {
   "cell_type": "markdown",
   "metadata": {},
   "source": [
    "### Para selecionar os exemplos difíceis, foram escolhidos aqueles que tinham uma probabilidade perto do limiar de 0.5, que representa a área com maior dificuldade de predição do modelo. Os ranges escolhidos para atingir um valor significante de exemplos foi de 0.5 +- 0.15."
   ]
  },
  {
   "cell_type": "code",
   "execution_count": 19,
   "metadata": {},
   "outputs": [
    {
     "name": "stdout",
     "output_type": "stream",
     "text": [
      "Selecionados 144 exemplos dentro do range especificado\n"
     ]
    }
   ],
   "source": [
    "mask=(result2['pred']>0.35) & (result2['pred']<0.65)\n",
    "print('Selecionados {} exemplos dentro do range especificado'.format(mask.sum()))"
   ]
  },
  {
   "cell_type": "markdown",
   "metadata": {},
   "source": [
    "### Como foi dito, para aumentar a capacidade de generalização foram escolhidos mais 56 exemplos aleatórios para serem anotados."
   ]
  },
  {
   "cell_type": "code",
   "execution_count": 20,
   "metadata": {},
   "outputs": [],
   "source": [
    "hard_to_predict= result2[mask]\n",
    "aleatory= result2[~mask].sample(56,random_state=19)\n",
    "\n",
    "hard_to_predict.append(aleatory).to_csv('./dados_tratados/dados_tratados_active_learning.csv',sep=';')"
   ]
  },
  {
   "cell_type": "code",
   "execution_count": 21,
   "metadata": {},
   "outputs": [
    {
     "data": {
      "text/plain": [
       "(200, 96)"
      ]
     },
     "execution_count": 21,
     "metadata": {},
     "output_type": "execute_result"
    }
   ],
   "source": [
    "hard_to_predict.append(aleatory).shape"
   ]
  },
  {
   "cell_type": "markdown",
   "metadata": {},
   "source": [
    "##        "
   ]
  },
  {
   "cell_type": "markdown",
   "metadata": {},
   "source": [
    "<a id='t3'></a>\n",
    "## 3 - Verificação dos resultados\n",
    "- [Sumário](#top)   \n",
    "    - [Anterior](#t2_3)"
   ]
  },
  {
   "cell_type": "markdown",
   "metadata": {},
   "source": [
    "### Por fim, os dados anotados foram agregados em um único *dataframe* e o modelo foi treinado e avaliado da mesma maneira"
   ]
  },
  {
   "cell_type": "code",
   "execution_count": 22,
   "metadata": {},
   "outputs": [
    {
     "data": {
      "text/plain": [
       "(555, 97)"
      ]
     },
     "execution_count": 22,
     "metadata": {},
     "output_type": "execute_result"
    }
   ],
   "source": [
    "df1 = pd.read_csv('./dados_tratados/dados_tratados_555_labels.csv',delimiter=';').dropna(subset=['y'])\n",
    "df1 = df1[df1['y'].notnull()]\n",
    "df1['novo'] = 0\n",
    "df1.shape"
   ]
  },
  {
   "cell_type": "code",
   "execution_count": 23,
   "metadata": {},
   "outputs": [
    {
     "data": {
      "text/plain": [
       "(200, 97)"
      ]
     },
     "execution_count": 23,
     "metadata": {},
     "output_type": "execute_result"
    }
   ],
   "source": [
    "df2 = pd.read_csv(\"./dados_tratados/dados_tratados_active_learning_labels.csv\",index_col=[0], delimiter=';')\n",
    "df2 = df2[df2['y'].notnull()]\n",
    "df2['novo'] = 1\n",
    "df2=df2[df1.columns]\n",
    "df2.shape"
   ]
  },
  {
   "cell_type": "code",
   "execution_count": 24,
   "metadata": {},
   "outputs": [],
   "source": [
    "df_updated=pd.concat([df1, df2])"
   ]
  },
  {
   "cell_type": "code",
   "execution_count": 25,
   "metadata": {},
   "outputs": [],
   "source": [
    "X_up= df_updated.copy().drop(columns=['y'])\n",
    "y_up= df_updated['y'].copy()"
   ]
  },
  {
   "cell_type": "code",
   "execution_count": 26,
   "metadata": {},
   "outputs": [
    {
     "data": {
      "text/plain": [
       "(755, 5316)"
      ]
     },
     "execution_count": 26,
     "metadata": {},
     "output_type": "execute_result"
    }
   ],
   "source": [
    "from sklearn.feature_extraction.text import TfidfVectorizer\n",
    "\n",
    "title= X_up['good_reasons_to_buy'].fillna(' ')\n",
    "\n",
    "title_vec = TfidfVectorizer(min_df=3, ngram_range=(1,2))\n",
    "title_bow = title_vec.fit_transform(title)\n",
    "\n",
    "# print('Foram adicionadas {n} novas features'.format(n=title_bow_train.shape[1]))\n",
    "title_bow.shape"
   ]
  },
  {
   "cell_type": "code",
   "execution_count": 27,
   "metadata": {},
   "outputs": [],
   "source": [
    "X_up=X_up.copy().drop(columns=['shoes_name','link','image','bad_reasons_to_buy','good_reasons_to_buy'])"
   ]
  },
  {
   "cell_type": "code",
   "execution_count": 28,
   "metadata": {},
   "outputs": [],
   "source": [
    "from scipy.sparse import hstack\n",
    "\n",
    "X_up_wtitle = hstack([X_up, title_bow])"
   ]
  },
  {
   "cell_type": "code",
   "execution_count": 29,
   "metadata": {},
   "outputs": [
    {
     "data": {
      "image/png": "[encoded data removed]",
      "text/plain": [
       "<Figure size 720x504 with 1 Axes>"
      ]
     },
     "metadata": {},
     "output_type": "display_data"
    }
   ],
   "source": [
    "train_roc_viz(X_up_wtitle,y_up,rf)"
   ]
  },
  {
   "cell_type": "markdown",
   "metadata": {},
   "source": [
    "### Podemos perceber que o Active Learning trouxe uma melhoria muito discreta na nossa performance. Isto pode ter acontecido por estarmos lidando com uma quantidade muito pequena de dados. Mesmo assim, agora nós temos um *dataset* de treinamento mais robusto e que provavelmente trará bons resultados na etapa de otimização e produção."
   ]
  }
 ],
 "metadata": {
  "kernelspec": {
   "display_name": "Python 3",
   "language": "python",
   "name": "python3"
  },
  "language_info": {
   "codemirror_mode": {
    "name": "ipython",
    "version": 3
   },
   "file_extension": ".py",
   "mimetype": "text/x-python",
   "name": "python",
   "nbconvert_exporter": "python",
   "pygments_lexer": "ipython3",
   "version": "3.7.3"
  }
 },
 "nbformat": 4,
 "nbformat_minor": 4
}
